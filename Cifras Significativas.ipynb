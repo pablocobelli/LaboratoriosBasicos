{
 "metadata": {
  "name": "",
  "signature": "sha256:64903d2ca7fcbf043a5350555a6e14225220012787865fd3c4c9783536db5bf8"
 },
 "nbformat": 3,
 "nbformat_minor": 0,
 "worksheets": [
  {
   "cells": [
    {
     "cell_type": "heading",
     "level": 1,
     "metadata": {},
     "source": [
      "Cifras Significativas"
     ]
    },
    {
     "cell_type": "markdown",
     "metadata": {},
     "source": [
      "\n",
      "**Pablo Cobelli** - Departamento de F\u00edsica, FCEN-UBA, Argentina.  \n",
      "Laboratorios B\u00e1sicos de Ense\u00f1anza - _\u00daltima actualizaci\u00f3n: Febrero de 2015._  "
     ]
    },
    {
     "cell_type": "markdown",
     "metadata": {},
     "source": [
      "**Este apunte tiene licencia [Creative Commons Attribution 4.0 International License](http://creativecommons.org/licenses/by/4.0/). **\n",
      "\n",
      "----"
     ]
    },
    {
     "cell_type": "heading",
     "level": 2,
     "metadata": {},
     "source": [
      "Introduccion"
     ]
    },
    {
     "cell_type": "markdown",
     "metadata": {},
     "source": [
      "En este documento se discuten una serie de reglas (a veces denominadas \"reglas de \n",
      "cifras significativas\") que se emplean para aproximar la propagaci\u00f3n de incertezas\n",
      "en c\u00e1lculos cient\u00edficos. Estas reglas pueden utilizarse para determinar el n\u00famero apropiado de cifras significativas que es necesario emplear para representar adecuadamente el resultado de una medici\u00f3n, sea esta directa o indirecta. \n",
      "\n",
      "Si un c\u00e1lculo de este tipo es realizado **sin** el an\u00e1lisis de incertezas, un resultado \n",
      "expresado con demasiadas cifras significativas puede interpretarse como de alta precisi\u00f3n, mientras que otro con un escaso n\u00famero de cifras significativas resulta en una posible p\u00e9rdida de precisi\u00f3n. \n",
      "\n",
      "Entender las siguientes reglas resulta entonces de la mayor importancia a la hora de evaluar la precisi\u00f3n con la que se mide en el laboratorio."
     ]
    },
    {
     "cell_type": "heading",
     "level": 2,
     "metadata": {},
     "source": [
      "N\u00famero de cifras significativas"
     ]
    },
    {
     "cell_type": "markdown",
     "metadata": {},
     "source": [
      "La precisi\u00f3n asociada a un resultado experimental se establece a partir del n\u00famero de\n",
      "d\u00edgitos con que se reporta la determinaci\u00f3n, como as\u00ed tambi\u00e9n su incerteza. "
     ]
    },
    {
     "cell_type": "markdown",
     "metadata": {},
     "source": [
      "El **n\u00famero de cifras significativas** en un resultado se define de la siguiente forma:"
     ]
    },
    {
     "cell_type": "markdown",
     "metadata": {},
     "source": [
      "1. El primer d\u00edgito distinto de cero a la izquierda es el d\u00edgito m\u00e1s significativo (DMS).\n",
      "2. Si no hay separador decimal, el primer d\u00edgito distinto de cero a la derecha es el d\u00edgito menos significativo (DmS).\n",
      "3. Si hay separador decimal, el primer d\u00edgito a la derecha es el menos significativo (DmS), a\u00fan si se trata de un cero.\n",
      "4. Todos los d\u00edgitos entre el menos y el m\u00e1s significativo se cuentan como cifras significativas."
     ]
    },
    {
     "cell_type": "heading",
     "level": 3,
     "metadata": {},
     "source": [
      "Ejemplos"
     ]
    },
    {
     "cell_type": "markdown",
     "metadata": {},
     "source": [
      "Como ejemplos, podemos mencionar las siguientes determinaciones, todas ellas con **cuatro** cifras significativas:   \n",
      "$1234, 123.4, 123.400, 1001, 1000., 10.10, 0.0001010$ y $100.0$. "
     ]
    },
    {
     "cell_type": "heading",
     "level": 3,
     "metadata": {},
     "source": [
      "C\u00f3mo evitar ambig\u00fcedades"
     ]
    },
    {
     "cell_type": "markdown",
     "metadata": {},
     "source": [
      "Si no se utiliza separador decimal en forma expl\u00edcita, existe una ambig\u00fcedad cuando el\n",
      "primer d\u00edgito a la derecha es un cero. As\u00ed, se considera que el n\u00famero 1010 tiene solo \n",
      "**tres** cifras significativas a\u00fan cuando el \u00faltimo d\u00edgito pudiera ser significativo \n",
      "f\u00edsicamente (en principio, y sin otra informaci\u00f3n, no es posible saberlo). Para evitar\n",
      "este tipo de ambig\u00fcedades al citar un resultado experimental, siempre resulta conveniente\n",
      "proveer a la expresi\u00f3n de un separador decimal, o bien **expresar dichos resultados \n",
      "en notaci\u00f3n cient\u00edfica**. "
     ]
    },
    {
     "cell_type": "markdown",
     "metadata": {},
     "source": [
      "Por notaci\u00f3n cient\u00edfica entendemos reexpresar el resultado como un argumento en notaci\u00f3n decimal multiplicado por la potencia de $10$ apropiada. "
     ]
    },
    {
     "cell_type": "markdown",
     "metadata": {},
     "source": [
      "En el ejemplo que nos ocupa, $1010$ ser\u00eda reexpresado en cualquiera de estas dos formas:\n",
      "* $1010.$ , o tambi\u00e9n\n",
      "* $1.010 \\times 10^3$.\n",
      "\n",
      "Utilizamos cualquiera de estas expresiones si las cuatro cifras son significativas."
     ]
    },
    {
     "cell_type": "heading",
     "level": 2,
     "metadata": {},
     "source": [
      "Cu\u00e1ntas cifras significativas utilizar"
     ]
    },
    {
     "cell_type": "markdown",
     "metadata": {},
     "source": [
      "Cuando se expresa un resultado experimental, el n\u00famero de cifras significativas debe ser\n",
      "aproximadamente **una m\u00e1s** que la dictada por la precisi\u00f3n experimental. La inclusi\u00f3n de  esta cifra extra nos permite evitar errores que podr\u00edan ser causados por el redondeo en c\u00e1lculos subsiguientes.  "
     ]
    },
    {
     "cell_type": "markdown",
     "metadata": {},
     "source": [
      "Por ejemplo, si tenemos una medici\u00f3n del largo del lado $L$ de una mesa, dada como $L$ = 1.979 m con una incerteza experimental de 0.012 m, este resultado puede citarse como: \n",
      "\n",
      "$L = (1.979 \\pm 0.012)$ m."
     ]
    },
    {
     "cell_type": "markdown",
     "metadata": {},
     "source": [
      "Sin embargo, si el primer d\u00edgito de la incerteza es grande, tal como 0.082 m, entonces \n",
      "deber\u00edamos citar el resultado como\n",
      "\n",
      "$L = (1.98 \\pm 0.08)$ m."
     ]
    },
    {
     "cell_type": "markdown",
     "metadata": {},
     "source": [
      "En resumen: la idea es dejar que la magnitud de la incerteza asociada defina la precisi\u00f3n \n",
      "con la que citamos nuestro resultado."
     ]
    },
    {
     "cell_type": "heading",
     "level": 3,
     "metadata": {},
     "source": [
      "Redondeo"
     ]
    },
    {
     "cell_type": "markdown",
     "metadata": {},
     "source": [
      "Cuando desechamos cifras **no** significativas de un n\u00famero, el \u00faltimo d\u00edgito que retenemos \n",
      "debe ser redondeado para evitar perder exactitud. Para redondear un n\u00famero a una cantidad \n",
      "menor de cifras significativas de las que especificamos inicialmente, truncamos el n\u00famero\n",
      "y tratamos a los d\u00edgitos descartados como una fracci\u00f3n decimal. Entonces:"
     ]
    },
    {
     "cell_type": "markdown",
     "metadata": {},
     "source": [
      "1. Si la fracci\u00f3n es mayor que 0.5, incrementamos en una unidad la (nueva) cifra menos significativa.\n",
      "2. Si la fracci\u00f3n es menor que 0.5, no realizamos ninguna variaci\u00f3n.\n",
      "3. Si la fracci\u00f3n es exactamente igual a 0.5, incrementamos la cifra menos significativa **solo si es impar**."
     ]
    },
    {
     "cell_type": "markdown",
     "metadata": {},
     "source": [
      "La razon de ser de la regla 3 es que un valor fraccionario de 0.5 puede ser el resultado tanto \n",
      "de un redondeo previo de una fracci\u00f3n que era ligeramente *menor* que 0.5, como de un redonde previo de una fraccion que era ligeramente *superior* a 0.5. \n",
      "Como ejemplo de esto, consideremos las determinaciones: $1.249$ y $1.251$. Ambas, redondeados a tres cifras significativas dan el mismo valor: $1.25$. Si ahora redonde\u00e1semos nuevamente este n\u00famero a dos cifras significativas, obtendr\u00edamos el mismo valor para ambos: $1.2$ \u00f3 bien $1.3$ seg\u00fan la convenci\u00f3n que utiliz\u00e1cemos. "
     ]
    },
    {
     "cell_type": "markdown",
     "metadata": {},
     "source": [
      "Vemos entonces que elegir redondear *hacia arriba* si la \u00faltima cifra es impar y *hacia abajo* si es impar tiene el efecto de **reducir los errores sistem\u00e1ticos** que de otra forma estar\u00edamos introduciendo en el promedio de estas determinaciones. "
     ]
    },
    {
     "cell_type": "heading",
     "level": 3,
     "metadata": {},
     "source": [
      "Acerca de las cifras significativas en c\u00e1lculos intermedios"
     ]
    },
    {
     "cell_type": "markdown",
     "metadata": {},
     "source": [
      "A partir de lo mencionado en las secciones anteriores (en particular, en la \u00faltima),\n",
      "observamos que es en general altamente recomendable **retener todos los d\u00edgitos disponibles\n",
      "en los c\u00e1lculos intermedios**, y realizar las operaciones de redondeo \u00fanicamente sobre\n",
      "los resultados finales."
     ]
    },
    {
     "cell_type": "heading",
     "level": 2,
     "metadata": {},
     "source": [
      "Operaciones con cifras significativas"
     ]
    },
    {
     "cell_type": "markdown",
     "metadata": {},
     "source": [
      "En general, se emplean las siguientes reglas para la suma, resta, multiplicaci\u00f3n y \n",
      "divisi\u00f3n cuando se trabaja con cifras significativas. Como ver\u00e1n a continuaci\u00f3n, estas\n",
      "reglas difieren ligeramente de las utilizadas en la aritm\u00e9tica usual, lo que hizo que \n",
      "se las denomine denomine **aritm\u00e9tica de significatividad** (o significance arithmetic, en ingl\u00e9s)."
     ]
    },
    {
     "cell_type": "heading",
     "level": 3,
     "metadata": {},
     "source": [
      "Reglas para la suma y la resta"
     ]
    },
    {
     "cell_type": "markdown",
     "metadata": {},
     "source": [
      "El resultado de la suma y la resta debe contener el mismo numero **de cifras decimales** (no significativas!) que la determinacion con menor numero de cifras decimales involucrada. "
     ]
    },
    {
     "cell_type": "markdown",
     "metadata": {},
     "source": [
      "Ejemplo: \n",
      "\n",
      "$40.55 + 3.1 + 10.222 = 53.872$ "
     ]
    },
    {
     "cell_type": "markdown",
     "metadata": {},
     "source": [
      "El numero con la menor cantidad de cifras **decimales** es $3.1$ (1 cifra decimal). \n",
      "Entonces, el resultado deberia redondearse a 1 cifra decimal, para obtener $53.9$, que\n",
      "tiene **3** cifras significativas."
     ]
    },
    {
     "cell_type": "heading",
     "level": 3,
     "metadata": {},
     "source": [
      "Reglas para la multiplicaci\u00f3n y la divisi\u00f3n"
     ]
    },
    {
     "cell_type": "markdown",
     "metadata": {},
     "source": [
      "El resultado de la multiplicaci\u00f3n o la divisi\u00f3n debe tener tantas cifras **significativas**\n",
      "como las que posee el n\u00famero con menor cantidad de cifras significativas involucrado. "
     ]
    },
    {
     "cell_type": "markdown",
     "metadata": {},
     "source": [
      "Ejemplo:\n",
      "    \n",
      "$($ $32.1 \\times 1.234$ $)$ $/$ $1.2$ $=$ $33.0095$"
     ]
    },
    {
     "cell_type": "markdown",
     "metadata": {},
     "source": [
      "El numero con la menor cantidad de **cifras significativas** es $1.2$ (tiene 2 cifras\n",
      "significativas). Entonces, nuestro resultado debe ser redondeado a $33$, quedando tambi\u00e9n \n",
      "con 2 cifras significativas."
     ]
    },
    {
     "cell_type": "heading",
     "level": 2,
     "metadata": {},
     "source": [
      "Ejercicios (para asegurarte que entendiste!)"
     ]
    },
    {
     "cell_type": "markdown",
     "metadata": {},
     "source": [
      "Cu\u00e1ntos d\u00edgitos significativos tienen las siguientes expresiones?\n",
      "1. $976.45$\n",
      "2. $84000$\n",
      "3. $0.0094$\n",
      "4. $3.01.07$\n",
      "5. $4.000$\n",
      "6. $4.00 \\times 10^2$\n",
      "7. $10$\n",
      "8. $5280$\n",
      "9. $400$\n",
      "10. $3.010 \\times 10^4$"
     ]
    },
    {
     "cell_type": "heading",
     "level": 2,
     "metadata": {},
     "source": [
      "Para saber m\u00e1s..."
     ]
    },
    {
     "cell_type": "heading",
     "level": 3,
     "metadata": {},
     "source": [
      "... acerca de cifras significativas"
     ]
    },
    {
     "cell_type": "markdown",
     "metadata": {},
     "source": [
      "Las siguientes referencias bibliogr\u00e1ficas y/o links online pueden ayudarlos a profundizar\n",
      "en el estudio de cifras significativas:\n",
      "1. Bevington y Robinson. \"Data Reduction and Error Analysis\" (2001).\n",
      "2. Subcommittee E11.30 (2013). \"Standard Practice for Using Significant Digits in Test Data to Determine Conformance with Specifications\". ASTM International. doi:10.1520/E0029-08."
     ]
    },
    {
     "cell_type": "heading",
     "level": 3,
     "metadata": {},
     "source": [
      "... acerca de la aritm\u00e9tica de significatividad"
     ]
    },
    {
     "cell_type": "markdown",
     "metadata": {},
     "source": [
      "1. Delury, D. B. (1958). \"Computations with approximate numbers\". The Mathematics Teacher 51 (521-30).\n",
      "2. Bond, E. A. (1931). \"Significant Digits in Computation with Approximate Numbers\". The Mathematics Teacher 24 (4): 208\u201312."
     ]
    }
   ],
   "metadata": {}
  }
 ]
}