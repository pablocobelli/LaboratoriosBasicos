{
 "cells": [
  {
   "cell_type": "markdown",
   "metadata": {},
   "source": [
    "# Cifras Significativas"
   ]
  },
  {
   "cell_type": "markdown",
   "metadata": {},
   "source": [
    "\n",
    "**Pablo Cobelli** - Departamento de Física, FCEN-UBA, Argentina.  \n",
    "Laboratorios Básicos de Enseñanza - _Última actualización: Agosto de 2017._  "
   ]
  },
  {
   "cell_type": "markdown",
   "metadata": {},
   "source": [
    "**Este apunte tiene licencia [Creative Commons Attribution 4.0 International License](http://creativecommons.org/licenses/by/4.0/). **\n",
    "\n",
    "----"
   ]
  },
  {
   "cell_type": "markdown",
   "metadata": {},
   "source": [
    "## Introducción"
   ]
  },
  {
   "cell_type": "markdown",
   "metadata": {},
   "source": [
    "En este documento se discuten una serie de reglas (a veces denominadas \"reglas de \n",
    "cifras significativas\") que se emplean para aproximar la propagación de incertezas\n",
    "en cálculos científicos. Estas reglas pueden utilizarse para determinar el número apropiado de cifras significativas que es necesario emplear para representar adecuadamente el resultado de una medición, sea esta directa o indirecta. \n",
    "\n",
    "Si un cálculo de este tipo es realizado **sin** el análisis de incertezas, un resultado \n",
    "expresado con demasiadas cifras significativas puede interpretarse como de alta precisión, mientras que otro con un escaso número de cifras significativas resulta en una posible pérdida de precisión. \n",
    "\n",
    "Entender las siguientes reglas resulta entonces de la mayor importancia a la hora de evaluar la precisión con la que se mide en el laboratorio."
   ]
  },
  {
   "cell_type": "markdown",
   "metadata": {},
   "source": [
    "## Número de cifras significativas"
   ]
  },
  {
   "cell_type": "markdown",
   "metadata": {},
   "source": [
    "La precisión asociada a un resultado experimental se establece a partir del número de\n",
    "dígitos con que se reporta la determinación, como así también su incerteza. "
   ]
  },
  {
   "cell_type": "markdown",
   "metadata": {},
   "source": [
    "El **número de cifras significativas** en un resultado se define de la siguiente forma:"
   ]
  },
  {
   "cell_type": "markdown",
   "metadata": {},
   "source": [
    "1. El primer dígito distinto de cero a la izquierda es el dígito más significativo (DMS).\n",
    "2. Si no hay separador decimal, el primer dígito distinto de cero a la derecha es el dígito menos significativo (DmS).\n",
    "3. Si hay separador decimal, el primer dígito a la derecha es el menos significativo (DmS), aún si se trata de un cero.\n",
    "4. Todos los dígitos entre el menos y el más significativo se cuentan como cifras significativas."
   ]
  },
  {
   "cell_type": "markdown",
   "metadata": {},
   "source": [
    "### Ejemplos"
   ]
  },
  {
   "cell_type": "markdown",
   "metadata": {},
   "source": [
    "Como ejemplos, podemos mencionar las siguientes determinaciones, todas ellas con **cuatro** cifras significativas:   \n",
    "$1234, 123.4, 123400, 1001, 1000., 10.10, 0.0001010$ y $100.0$. "
   ]
  },
  {
   "cell_type": "markdown",
   "metadata": {},
   "source": [
    "### Cómo evitar ambigüedades"
   ]
  },
  {
   "cell_type": "markdown",
   "metadata": {},
   "source": [
    "Si no se utiliza separador decimal en forma explícita, existe una ambigüedad cuando el\n",
    "primer dígito a la derecha es un cero. Así, se considera que el número 1010 tiene solo \n",
    "**tres** cifras significativas aún cuando el último dígito pudiera ser significativo \n",
    "físicamente (en principio, y sin otra información, no es posible saberlo). Para evitar\n",
    "este tipo de ambigüedades al citar un resultado experimental, siempre resulta conveniente\n",
    "proveer a la expresión de un separador decimal, o bien **expresar dichos resultados \n",
    "en notación científica**. "
   ]
  },
  {
   "cell_type": "markdown",
   "metadata": {},
   "source": [
    "Por notación científica entendemos reexpresar el resultado como un argumento en notación decimal multiplicado por la potencia de $10$ apropiada. "
   ]
  },
  {
   "cell_type": "markdown",
   "metadata": {},
   "source": [
    "En el ejemplo que nos ocupa, $1010$ sería reexpresado en cualquiera de estas dos formas:\n",
    "* $1010.$ , o también\n",
    "* $1.010 \\times 10^3$.\n",
    "\n",
    "Utilizamos cualquiera de estas expresiones si las cuatro cifras son significativas."
   ]
  },
  {
   "cell_type": "markdown",
   "metadata": {},
   "source": [
    "#### Breve resumen de notación científica o forma estándar"
   ]
  },
  {
   "cell_type": "markdown",
   "metadata": {},
   "source": [
    "En este apartado revisamos los elementos básicos de notación científica (también \n",
    "denominada \"forma estándar\"). Recordemos que la notación científica es una forma de\n",
    "expresar un número en término de potencias de $10$. Se dice que un número está expresado\n",
    "en notación científica si viene dado en la forma:\n",
    "\n",
    "$a \\times 10^n$,\n",
    "\n",
    "donde $a$ es un número real que satisface $1 \\leq |a| < 10$, y $n$ es un entero. En esta\n",
    "notación, en número $a$ recibe el nombre de _argumento_ o _significando_, mientras que\n",
    "$n$ se denomina simplemente _exponente_.  "
   ]
  },
  {
   "cell_type": "markdown",
   "metadata": {},
   "source": [
    "## Cuántas cifras significativas utilizar"
   ]
  },
  {
   "cell_type": "markdown",
   "metadata": {},
   "source": [
    "Cuando se expresa un resultado experimental, el número de cifras significativas debe ser\n",
    "aproximadamente **una más** que la dictada por la precisión experimental. La inclusión de  esta cifra extra nos permite evitar errores que podrían ser causados por el redondeo en cálculos subsiguientes.  "
   ]
  },
  {
   "cell_type": "markdown",
   "metadata": {},
   "source": [
    "Por ejemplo, si tenemos una medición del largo del lado $L$ de una mesa, dada como $L$ = 1.979 m con una incerteza experimental de 0.012 m, este resultado puede citarse como: \n",
    "\n",
    "$L = (1.979 \\pm 0.012)$ m."
   ]
  },
  {
   "cell_type": "markdown",
   "metadata": {},
   "source": [
    "Sin embargo, si el primer dígito de la incerteza es grande, tal como 0.082 m, entonces \n",
    "deberíamos citar el resultado como\n",
    "\n",
    "$L = (1.98 \\pm 0.08)$ m."
   ]
  },
  {
   "cell_type": "markdown",
   "metadata": {},
   "source": [
    "En resumen: la idea es dejar que la magnitud de la incerteza asociada defina la precisión \n",
    "con la que citamos nuestro resultado."
   ]
  },
  {
   "cell_type": "markdown",
   "metadata": {},
   "source": [
    "### Redondeo"
   ]
  },
  {
   "cell_type": "markdown",
   "metadata": {},
   "source": [
    "Cuando desechamos cifras **no** significativas de un número, el último dígito que retenemos \n",
    "debe ser redondeado para evitar perder exactitud. Para redondear un número a una cantidad \n",
    "menor de cifras significativas de las que especificamos inicialmente, truncamos el número\n",
    "y tratamos a los dígitos descartados como una fracción decimal. Entonces:"
   ]
  },
  {
   "cell_type": "markdown",
   "metadata": {},
   "source": [
    "1. Si la fracción es mayor que 0.5, incrementamos en una unidad la (nueva) cifra menos significativa.\n",
    "2. Si la fracción es menor que 0.5, no realizamos ninguna variación.\n",
    "3. Si la fracción es exactamente igual a 0.5, incrementamos la cifra menos significativa **solo si es impar**."
   ]
  },
  {
   "cell_type": "markdown",
   "metadata": {},
   "source": [
    "La razon de ser de la regla 3 es que un valor fraccionario de 0.5 puede ser el resultado tanto \n",
    "de un redondeo previo de una fracción que era ligeramente *menor* que 0.5, como de un redonde previo de una fraccion que era ligeramente *superior* a 0.5. \n",
    "Como ejemplo de esto, consideremos las determinaciones: $1.249$ y $1.251$. Ambas, redondeados a tres cifras significativas dan el mismo valor: $1.25$. Si ahora redondeásemos nuevamente este número a dos cifras significativas, obtendríamos el mismo valor para ambos: $1.2$ ó bien $1.3$ según la convención que utilizácemos. "
   ]
  },
  {
   "cell_type": "markdown",
   "metadata": {},
   "source": [
    "Vemos entonces que elegir redondear *hacia arriba* si la última cifra es impar y *hacia abajo* si es impar tiene el efecto de **reducir los errores sistemáticos** que de otra forma estaríamos introduciendo en el promedio de estas determinaciones. "
   ]
  },
  {
   "cell_type": "markdown",
   "metadata": {},
   "source": [
    "### Acerca de las cifras significativas en cálculos intermedios"
   ]
  },
  {
   "cell_type": "markdown",
   "metadata": {},
   "source": [
    "A partir de lo mencionado en las secciones anteriores (en particular, en la última),\n",
    "observamos que es en general altamente recomendable **retener todos los dígitos disponibles\n",
    "en los cálculos intermedios**, y realizar las operaciones de redondeo únicamente sobre\n",
    "los resultados finales."
   ]
  },
  {
   "cell_type": "markdown",
   "metadata": {},
   "source": [
    "## Operaciones con cifras significativas"
   ]
  },
  {
   "cell_type": "markdown",
   "metadata": {},
   "source": [
    "En general, se emplean las siguientes reglas para la suma, resta, multiplicación y \n",
    "división cuando se trabaja con cifras significativas. Como verán a continuación, estas\n",
    "reglas difieren ligeramente de las utilizadas en la aritmética usual, lo que hizo que \n",
    "se las denomine denomine **aritmética de significatividad** (o significance arithmetic, en inglés)."
   ]
  },
  {
   "cell_type": "markdown",
   "metadata": {},
   "source": [
    "### Reglas para la suma y la resta"
   ]
  },
  {
   "cell_type": "markdown",
   "metadata": {},
   "source": [
    "El resultado de la suma y la resta debe contener el mismo numero **de cifras decimales** (no significativas!) que la determinacion con menor numero de cifras decimales involucrada. "
   ]
  },
  {
   "cell_type": "markdown",
   "metadata": {},
   "source": [
    "Ejemplo: \n",
    "\n",
    "$40.55 + 3.1 + 10.222 = 53.872$ "
   ]
  },
  {
   "cell_type": "markdown",
   "metadata": {},
   "source": [
    "El numero con la menor cantidad de cifras **decimales** es $3.1$ (1 cifra decimal). \n",
    "Entonces, el resultado deberia redondearse a 1 cifra decimal, para obtener $53.9$, que\n",
    "tiene **3** cifras significativas."
   ]
  },
  {
   "cell_type": "markdown",
   "metadata": {},
   "source": [
    "### Reglas para la multiplicación y la división"
   ]
  },
  {
   "cell_type": "markdown",
   "metadata": {},
   "source": [
    "El resultado de la multiplicación o la división debe tener tantas cifras **significativas**\n",
    "como las que posee el número con menor cantidad de cifras significativas involucrado. "
   ]
  },
  {
   "cell_type": "markdown",
   "metadata": {},
   "source": [
    "Ejemplo:\n",
    "    \n",
    "$($ $32.1 \\times 1.234$ $)$ $/$ $1.2$ $=$ $33.0095$"
   ]
  },
  {
   "cell_type": "markdown",
   "metadata": {},
   "source": [
    "El numero con la menor cantidad de **cifras significativas** es $1.2$ (tiene 2 cifras\n",
    "significativas). Entonces, nuestro resultado debe ser redondeado a $33$, quedando también \n",
    "con 2 cifras significativas."
   ]
  },
  {
   "cell_type": "markdown",
   "metadata": {},
   "source": [
    "## Ejercicios (para asegurarte que entendiste!)"
   ]
  },
  {
   "cell_type": "markdown",
   "metadata": {},
   "source": [
    "Cuántos dígitos significativos tienen las siguientes expresiones?\n",
    "1. $976.45$\n",
    "2. $84000$\n",
    "3. $0.0094$\n",
    "4. $3.01.07$\n",
    "5. $4.000$\n",
    "6. $4.00 \\times 10^2$\n",
    "7. $10$\n",
    "8. $5280$\n",
    "9. $400$\n",
    "10. $3.010 \\times 10^4$"
   ]
  },
  {
   "cell_type": "markdown",
   "metadata": {},
   "source": [
    "## Para saber más..."
   ]
  },
  {
   "cell_type": "markdown",
   "metadata": {},
   "source": [
    "Las siguientes referencias bibliográficas y/o links online pueden ayudarlos a saber más ..."
   ]
  },
  {
   "cell_type": "markdown",
   "metadata": {},
   "source": [
    "### ... acerca de cifras significativas"
   ]
  },
  {
   "cell_type": "markdown",
   "metadata": {},
   "source": [
    "1. Bevington y Robinson. \"Data Reduction and Error Analysis\" (2001).\n",
    "2. Subcommittee E11.30 (2013). \"Standard Practice for Using Significant Digits in Test Data to Determine Conformance with Specifications\". ASTM International. doi:10.1520/E0029-08."
   ]
  },
  {
   "cell_type": "markdown",
   "metadata": {},
   "source": [
    "### ... acerca de la aritmética de significatividad"
   ]
  },
  {
   "cell_type": "markdown",
   "metadata": {},
   "source": [
    "1. Delury, D. B. (1958). \"Computations with approximate numbers\". The Mathematics Teacher 51 (521-30).\n",
    "2. Bond, E. A. (1931). \"Significant Digits in Computation with Approximate Numbers\". The Mathematics Teacher 24 (4): 208–12."
   ]
  }
 ],
 "metadata": {
  "kernelspec": {
   "display_name": "Python [default]",
   "language": "python",
   "name": "python3"
  },
  "language_info": {
   "codemirror_mode": {
    "name": "ipython",
    "version": 3
   },
   "file_extension": ".py",
   "mimetype": "text/x-python",
   "name": "python",
   "nbconvert_exporter": "python",
   "pygments_lexer": "ipython3",
   "version": "3.5.3"
  },
  "varInspector": {
   "cols": {
    "lenName": 16,
    "lenType": 16,
    "lenVar": 40
   },
   "kernels_config": {
    "python": {
     "delete_cmd_postfix": "",
     "delete_cmd_prefix": "del ",
     "library": "var_list.py",
     "varRefreshCmd": "print(var_dic_list())"
    },
    "r": {
     "delete_cmd_postfix": ") ",
     "delete_cmd_prefix": "rm(",
     "library": "var_list.r",
     "varRefreshCmd": "cat(var_dic_list()) "
    }
   },
   "types_to_exclude": [
    "module",
    "function",
    "builtin_function_or_method",
    "instance",
    "_Feature"
   ],
   "window_display": false
  }
 },
 "nbformat": 4,
 "nbformat_minor": 1
}
