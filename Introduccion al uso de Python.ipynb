{
 "metadata": {
  "name": "",
  "signature": "sha256:c9707990ba4a7f1af5d15b56f440f9f4b5b214289c14833bcc705ddb0cf74f8c"
 },
 "nbformat": 3,
 "nbformat_minor": 0,
 "worksheets": [
  {
   "cells": [
    {
     "cell_type": "heading",
     "level": 1,
     "metadata": {},
     "source": [
      "Introducci\u00f3n al uso de Python"
     ]
    },
    {
     "cell_type": "markdown",
     "metadata": {},
     "source": [
      "\n",
      "**Pablo Cobelli** - Departamento de F\u00edsica, FCEN-UBA, Argentina.  \n",
      "Laboratorios B\u00e1sicos de Ense\u00f1anza - _\u00daltima actualizaci\u00f3n: Agosto de 2017._  "
     ]
    },
    {
     "cell_type": "markdown",
     "metadata": {},
     "source": [
      "**Este apunte tiene licencia [Creative Commons Attribution 4.0 International License](http://creativecommons.org/licenses/by/4.0/). **\n",
      "\n",
      "----"
     ]
    },
    {
     "cell_type": "code",
     "collapsed": false,
     "input": [
      "%pylab inline\n",
      "from IPython.display import Image"
     ],
     "language": "python",
     "metadata": {},
     "outputs": [
      {
       "output_type": "stream",
       "stream": "stdout",
       "text": [
        "Populating the interactive namespace from numpy and matplotlib\n"
       ]
      }
     ],
     "prompt_number": 1
    },
    {
     "cell_type": "heading",
     "level": 2,
     "metadata": {},
     "source": [
      "Acerca de este documento"
     ]
    },
    {
     "cell_type": "markdown",
     "metadata": {},
     "source": [
      "A partir de los contenidos de este documento el lector aprender\u00e1 a:\n",
      "    \n",
      "* instalar Python,\n",
      "* trabajar en un entorno interactivo (Spyder),\n",
      "* analizar un conjunto de datos en t\u00e9rmimos de su estad\u00edstica descriptiva, y\n",
      "* construir un histograma de la serie de datos.\n",
      "    "
     ]
    },
    {
     "cell_type": "heading",
     "level": 2,
     "metadata": {},
     "source": [
      "Qu\u00e9 es Python?"
     ]
    },
    {
     "cell_type": "markdown",
     "metadata": {},
     "source": [
      "Python es un lenguaje de programaci\u00f3n muy popular que se caracteriza por su filosof\u00eda muy particular, en la cual la simplicidad de programaci\u00f3n y la facilidad para leer e interpretar lo que el c\u00f3digo hace son aspectos muy importantes. Es un lenguaje muy popular cuyo uso abarca un gran n\u00famero de aplicaciones.\n",
      "\n",
      "Desde hace varios a\u00f1os el lenguaje ha ido estableci\u00e9ndose como una alternativa completa para el c\u00f3mputo cient\u00edfico \u201cconvencional\u201d y para el de alto desempe\u00f1o. As\u00ed, se ha creado una amplia colecci\u00f3n de software num\u00e9rico y cient\u00edfico con base en dos extensiones: Numpy y Scipy, la cual incluye paquetes como Matplotlib (para la creaci\u00f3n de gr\u00e1ficos especializados) e IPython (para el uso interactivo del lenguaje y el an\u00e1lisis de datos on-the-fly), entre muchos otros. \n",
      "\n",
      "Con el paso de los a\u00f1os han surgido m\u00faltiples distribuciones de Python que incluyen una gran variedad de paquetes orientados al c\u00f3mputo cient\u00edfico y que vienen \u201clistas para usar\u201d. Siempre incluyen paquetes como Numpy, Scipy y Matplotlib, e integran ambientes de programaci\u00f3n como Spyder. Algunas de estas distribuciones son: **Pythonxy**, **Enthought Canopy**, **WinPython** y **Anaconda**, entre otras. \n",
      "\n",
      "En el marco de los laboratorios de ense\u00f1anza b\u00e1sica, mi recomendaci\u00f3n es  utilizar **Anaconda** ya que resulta muy sencillo instalar paquetes adicionales (si fuese necesario), como as\u00ed tambi\u00e9n realizar actualizaciones (updates) o mejoras (upgrades). "
     ]
    },
    {
     "cell_type": "heading",
     "level": 2,
     "metadata": {},
     "source": [
      "Anaconda Python"
     ]
    },
    {
     "cell_type": "markdown",
     "metadata": {},
     "source": [
      "La distribuci\u00f3n Anaconda de Continuum Analytics es relativamente reciente, pero muy \u00fatil en tres aspectos fundamentales:\n",
      "* incluye los paquetes de software necesario para el uso en el laboratorio,\n",
      "* ofrece al usuario una interfaz sencilla para instalaci\u00f3n, actualizaci\u00f3n y upgrade, y\n",
      "* permite f\u00e1cilmente agregar paquetes adicionales de un amplio cat\u00e1logo.\n",
      "\n",
      "Enumeremos algunas de sus caracter\u00edsticas m\u00e1s importantes:\n",
      "\n",
      "* Es gratuita tanto en su versi\u00f3n de 32 bits como en la de 64 bits, para uso personal y comercial. M\u00e1s a\u00fan: las herramientas m\u00e1s avanzadas (incluidas en lo que se denomina \"Anaconda Pro\") est\u00e1n disponibles en forma gratuita para uso acad\u00e9mico.\n",
      "\n",
      "* Tiene versiones para los tres sistemas operativos m\u00e1s importantes: Windows, Linux y Mac.\n",
      "\n",
      "* Es una distribuci\u00f3n no invasiva. Esto significa que se puede instalar junto a otras versiones o distribuciones de Python sin mayor problema y sin generar incompatibilidades. Tampoco necesita permisos de administrador para ser instalada.\n",
      "\n",
      "* Tiene un administrador de paquetes, llamado \"conda\", para instalar, crear y actualizar paquetes y bibliotecas adicionales.\n",
      "\n",
      "* A partir de ella es posible instalar y utilizar cualquiera de las versiones m\u00e1s difundidas actualmente de Python: tanto la version 2.7, la 3.3 \u00f3 la 3.4 (\u00faltima disponible al momento de la escritura de este documento).\n",
      "\n",
      "\n",
      "As\u00ed, la distribuci\u00f3n Anaconda es excelente para adentrarse por primera vez en el c\u00f3mputo cient\u00edfico empleando un lenguaje limpio y expresivo como lo es Python."
     ]
    },
    {
     "cell_type": "heading",
     "level": 2,
     "metadata": {},
     "source": [
      "C\u00f3mo instalar Anaconda"
     ]
    },
    {
     "cell_type": "markdown",
     "metadata": {},
     "source": [
      "El primer paso para instalar la distribuci\u00f3n Anaconda de Python es **descargar el archivo instalador**. Para ello, hagan click siguiente link:\n",
      "\n",
      "* [ Pagina de descarga del instalador de Anaconda Python ](https://www.continuum.io/downloads)\n",
      "\n",
      "La descarga del instalador puede demorar varios minutos, dependiendo de la velocidad de conexi\u00f3n que posean."
     ]
    },
    {
     "cell_type": "markdown",
     "metadata": {},
     "source": [
      "Una vez que el instalador se haya descargado, deberan seguir los pasos de instalacion descriptos en el sitio web de Continuum."
     ]
    },
    {
     "cell_type": "heading",
     "level": 2,
     "metadata": {},
     "source": [
      "Paquetes importantes para c\u00e1lculo cient\u00edfico"
     ]
    },
    {
     "cell_type": "markdown",
     "metadata": {},
     "source": [
      "Para el c\u00e1lculo cient\u00edfico y el an\u00e1lisis de dados de laboratorio, emplearemos unas\n",
      "librer\u00edas (tambi\u00e9n llamadas \"paquetes\") particulares que forman parte de la instalaci\u00f3n de Anaconda. Estas librer\u00edas nos permitir\u00e1n, por ejemplo, construir gr\u00e1ficos, emplear estad\u00edstica descriptiva, hacer c\u00e1lculos simb\u00f3licos, etc. En general, utilizaremos los siguientes paquetes:\n",
      "\n",
      "* [NUMPY](http://www.numpy.org) (NUMeric PYthon): para realizar c\u00e1lculos num\u00e9ricos con datos experimentales,\n",
      "* [SCIPY](http://www.scipy.org) (SCIentific PYthon): para realizar ajustes y/o an\u00e1lisis especializados,\n",
      "* [MATPLOTLIB](http://www.matplotlib.org) (MATrix PLOTting LIBrary): para crear gr\u00e1ficos, y\n",
      "* [SYMPY](http://www.sympy.org) (SYMbolic PYthon): para c\u00e1lculos simb\u00f3licos.\n",
      "\n",
      "Estos paquetes contienen las funciones m\u00e1s importantes para el an\u00e1lisis, el modelado, la representaci\u00f3n gr\u00e1fica y el ajuste de los datos experimentales que se realiza en los Laboratorios de Ense\u00f1anza B\u00e1sica. "
     ]
    },
    {
     "cell_type": "heading",
     "level": 2,
     "metadata": {},
     "source": [
      "C\u00f3mo comenzar a trabajar con Python"
     ]
    },
    {
     "cell_type": "markdown",
     "metadata": {},
     "source": [
      "Existe una amplia variedad de formas en la que se puede abordar el \n",
      "trabajo diario con Python. En particular, nosotros vamos a optar por trabajar con la interfaz denominada [\"Spyder\"](http://code.google.com/p/spyderlib/). El nombre Spyder\n",
      "es un acronismo que proviene del ingl\u00e9s \"**S**cientific **Py**thon **D**evelopment **E**nvi**R**onment\" y que podr\u00edamos traducir como \"entorno Python de desarrollo cient\u00edfico\". "
     ]
    },
    {
     "cell_type": "markdown",
     "metadata": {},
     "source": [
      "La ventaja principal de utilizar **Spyder** consiste en disponer de un entorno de trabajo amigable y f\u00e1cilmente navegable. Asimismo Spyder permite:\n",
      "\n",
      "* explorar f\u00e1cilmente un conjunto de datos\n",
      "* analizar datos (de experiencias o simulaciones) en forma interactiva\n",
      "* generar gr\u00e1ficos din\u00e1micos con los que es posible interactuar\n",
      "* emplear simult\u00e1neamente de un editor en el cual programar nuestras rutinas\n",
      "* disponer de ayudas visuales acerca de posibles errores en el c\u00f3digo y como subsanarlos\n",
      "* llevar autom\u00e1ticamente un registro de las operaciones que realizamos sobre los datos\n",
      "\n",
      "Por estas razones, Spyder resulta el \u00fatil m\u00e1s adecuado al trabajo que realizaremos diariamente en el laboratorio."
     ]
    },
    {
     "cell_type": "heading",
     "level": 3,
     "metadata": {},
     "source": [
      "Iniciando Spyder"
     ]
    },
    {
     "cell_type": "markdown",
     "metadata": {},
     "source": [
      "Para iniciar **Spyder** es necesario hacer click sobre el icono \"Launcher\" (el icono es un disco azul con una \"A\" verde), que en Windows encontrar\u00e1n dentro del menu de Aplicaciones. \n",
      "\n",
      "Una vez iniciado el \"Launcher\", les aparecer\u00e1 en pantalla una ventana como la siguiente:"
     ]
    },
    {
     "cell_type": "code",
     "collapsed": false,
     "input": [
      "Image(url='http://docs.continuum.io/_images/Anaconda_Launcher.png')"
     ],
     "language": "python",
     "metadata": {},
     "outputs": [
      {
       "html": [
        "<img src=\"http://docs.continuum.io/_images/Anaconda_Launcher.png\"/>"
       ],
       "metadata": {},
       "output_type": "pyout",
       "prompt_number": 2,
       "text": [
        "<IPython.core.display.Image at 0x102e96250>"
       ]
      }
     ],
     "prompt_number": 2
    },
    {
     "cell_type": "markdown",
     "metadata": {},
     "source": [
      "Ahora, para iniciar Spyder, solo hace falta hacer click en el bot\u00f3n azul ubicado a la derecha, en la misma l\u00ednea del texto \"spyder-app\". \n",
      "\n",
      "Si el bot\u00f3n fuese de color verde, esto significa que Spyder no est\u00e1 instalado a\u00fan. En ese caso, un primer click en el bot\u00f3n verde ser\u00e1 suficiente para iniciar la instalaci\u00f3n. Cuando la misma termine, el bot\u00f3n verde de \"install\" se convertir\u00e1 en un bot\u00f3n azul de \"launch\"; clicke\u00e1ndolo podr\u00e1n entonces iniciar Spyder."
     ]
    },
    {
     "cell_type": "heading",
     "level": 3,
     "metadata": {},
     "source": [
      "La interfaz de Spyder"
     ]
    },
    {
     "cell_type": "markdown",
     "metadata": {},
     "source": [
      "Una vez que Spyder se inicie, ver\u00e1n una ventana parecida a la que se muestra bajo estas l\u00edneas."
     ]
    },
    {
     "cell_type": "code",
     "collapsed": false,
     "input": [
      "Image(url='http://upload.wikimedia.org/wikipedia/commons/1/1b/Spyder-windows-screenshot.png')"
     ],
     "language": "python",
     "metadata": {},
     "outputs": [
      {
       "html": [
        "<img src=\"http://upload.wikimedia.org/wikipedia/commons/1/1b/Spyder-windows-screenshot.png\"/>"
       ],
       "metadata": {},
       "output_type": "pyout",
       "prompt_number": 3,
       "text": [
        "<IPython.core.display.Image at 0x104cbabd0>"
       ]
      }
     ],
     "prompt_number": 3
    },
    {
     "cell_type": "markdown",
     "metadata": {},
     "source": [
      " "
     ]
    },
    {
     "cell_type": "markdown",
     "metadata": {},
     "source": [
      "\n",
      "\n",
      "En la imagen es posible visualizar el entorno de Spyder, en donde aparecen en pantalla cuatro secciones (o peque\u00f1as ventanas). \n",
      "\n",
      "* **La consola** (console): \n",
      "\n",
      "    Abajo a la izquierda encontramos la \"consola\". En esa ventana es que, como usuarios, ingresamos los comandos en lenguaje Python con los que realizamos c\u00e1lculos, analizamos datos, constru\u00edmos gr\u00e1ficos, etc.\n",
      "    Es f\u00e1cil reconocer la consola porque es la secci\u00f3n en donde vemos la expresi\u00f3n \"In [1]:\" al pie cuando Spyder reci\u00e9n se inicia.\n",
      "    \n",
      "    \n",
      "* **El explorador de variables** (variable explorer):\n",
      "\n",
      "    Arriba a la derecha tenemos el explorador de variables. En \u00e9l se listan todas las\n",
      "    variables que fuimos creando a medida que analizamos los datos.\n",
      "\n",
      "\n",
      "* **El inspector de objetos** (object inspector):\n",
      "\n",
      "    Ubicado abajo a la derecha en la imagen, esta secci\u00f3n ofrece ayuda acerca tanto de las variables que tenemos, \n",
      "    de las funciones que usamos como as\u00ed tambi\u00e9n podemos tener acceso a la documentaci\u00f3n\n",
      "    completa de Python. \n",
      "    \n",
      "    \n",
      "* **El editor** (editor):\n",
      "\n",
      "    Arriba a la izquierda en la imagen vemos el editor. Se trata de un editor de texto\n",
      "    simple al cu\u00e1l podemos ir volcando las instrucciones Python con las que buscamos\n",
      "    construir nuestro programa (o script) de an\u00e1lisis de datos. Una de las ventajas de  usar este editor integrado es que Spyder ir\u00e1 se\u00f1alando visualmente con advertencias los posibles errores en nuestro c\u00f3digo, y nos dar\u00e1 sugerencias para resolverlos. Asimismo, usando el editor integrado podremos testear nuestro c\u00f3digo, ejecut\u00e1ndolo l\u00ednea por l\u00ednea para verificar que su funcionamiento sea el esperado."
     ]
    },
    {
     "cell_type": "heading",
     "level": 3,
     "metadata": {},
     "source": [
      "Iniciaci\u00f3n al an\u00e1lisis de datos en Python"
     ]
    },
    {
     "cell_type": "markdown",
     "metadata": {},
     "source": [
      "En esta secci\u00f3n les mostrar\u00e9 c\u00f3mo crear en Python una serie de datos con distribuci\u00f3n dada, c\u00f3mo analizar sus caracter\u00edsticas en t\u00e9rminos de estimadores estad\u00edsticos tales como la **media**, la **mediana** y la **moda**, y c\u00f3mo representar dicha serie mediante\n",
      "un **histograma**. "
     ]
    },
    {
     "cell_type": "markdown",
     "metadata": {},
     "source": [
      "Para aquellos que quieran seguir de cerca este tutorial, ingresando ellos mismos el c\u00f3digo a cada paso, les aclaro que s\u00f3lo trabajaremos -por ahora- en la consola. Es decir que, para repetir las instrucciones que les ir\u00e9 mostrando, bastar\u00e1 tipear las l\u00edneas de c\u00f3digo veremos en la **consola** de Spyder. _Les recomiendo fuertemente evitar hacer \"copy-paste\" de las l\u00edneas de c\u00f3digo de este documento, es siempre mejor para retener las instrucciones tomarse el trabajo de tipear uno mismo su c\u00f3digo._"
     ]
    },
    {
     "cell_type": "heading",
     "level": 4,
     "metadata": {},
     "source": [
      "Creaci\u00f3n de un conjunto (sint\u00e9tico) de datos"
     ]
    },
    {
     "cell_type": "markdown",
     "metadata": {},
     "source": [
      "A fin de aprender a utilizar Python para el an\u00e1lisis de datos, necesitamos contar con un\n",
      "conjunto de datos con el que trabajar. En el trabajo diario en el laboratorio, dichos datos provendr\u00e1n de las experiencias que realicen. Para este tutorial, vamos a crear nuestros propios datos \"simulados\" o, m\u00e1s propiamente dicho, \"sint\u00e9ticos\". \n",
      "\n",
      "Supongamos entonces que **buscamos crear una serie de datos compuesta de** (digamos) ** 10000 datos individuales cuya distribuci\u00f3n es normal (gaussiana)**. \n",
      "\n",
      "En Python, esto se logra muy sencillamente. \n",
      "\n",
      "Por un lado, la funci\u00f3n para crear series de datos de distribuci\u00f3n gaussiana se llama \"random.randn\". Esta funci\u00f3n forma parte de un paquete de an\u00e1lisis num\u00e9rico que se llama NUMPY, que mencionamos anteriormente. Entonces, utilizamos las siguientes instrucciones:"
     ]
    },
    {
     "cell_type": "code",
     "collapsed": false,
     "input": [
      "import numpy as np"
     ],
     "language": "python",
     "metadata": {},
     "outputs": [],
     "prompt_number": 4
    },
    {
     "cell_type": "code",
     "collapsed": false,
     "input": [
      "x = np.random.randn(10000)"
     ],
     "language": "python",
     "metadata": {},
     "outputs": [],
     "prompt_number": 5
    },
    {
     "cell_type": "markdown",
     "metadata": {},
     "source": [
      "La primera l\u00ednea le dice a Python que cargue el paquete \"numpy\" de an\u00e1lisis num\u00e9rico\n",
      "(es la parte que corresponde a \"import numpy\"). La segunda parte de esa primera l\u00ednea \n",
      "(la que corresponde a \"as np\") le dice a Python que cada vez que querramos utilizar una funci\u00f3n del paquete NUMPY la vamos a estar llamando con el pseud\u00f3nimo \"np\" en lugar de escribir \"numpy\" cada vez. \n",
      "\n",
      "\n",
      "La segunda l\u00ednea le pide a Python que genere un conjunto compuesto de $10000$ datos distribuidos gaussianamente y que guarde esa lista de datos en la variable \"x\". \n",
      "\n",
      "Observen que una vez que hayan ingresado esas dos l\u00edneas de instrucciones, Python no les devuelve ning\u00fan resultado a cambio. Para observar los valores de la variable \"x\", podemos hacer lo siguiente. Si ingresamos:"
     ]
    },
    {
     "cell_type": "code",
     "collapsed": false,
     "input": [
      "x"
     ],
     "language": "python",
     "metadata": {},
     "outputs": [
      {
       "metadata": {},
       "output_type": "pyout",
       "prompt_number": 6,
       "text": [
        "array([-0.84828964,  0.14618484,  0.89443725, ..., -0.54429903,\n",
        "        0.96530825,  0.66976308])"
       ]
      }
     ],
     "prompt_number": 6
    },
    {
     "cell_type": "markdown",
     "metadata": {},
     "source": [
      "Python nos devuelve una vista resumida en pantalla de la serie de los datos. F\u00edjense que la respuesta de Python comienza por \"array\", lo que nos indica que se trata de un conjunto de datos. Luego, separados por comas, Python nos da _algunos_ valores del conjunto. Como se trata de un conjunto de 10000 datos, Python no lista todos y nos agrega\n",
      "unos puntos suspensivos (\"...\") en el centro de la lista para hacernos notar que no estamos viendo la totalidad de los datos.\n",
      "\n",
      "Si quisi\u00e9semos ver el valor de alguno en particular, por ejemplo del primero de ellos, hariamos:"
     ]
    },
    {
     "cell_type": "code",
     "collapsed": false,
     "input": [
      "x[0]"
     ],
     "language": "python",
     "metadata": {},
     "outputs": [
      {
       "metadata": {},
       "output_type": "pyout",
       "prompt_number": 7,
       "text": [
        "-0.8482896360660982"
       ]
      }
     ],
     "prompt_number": 7
    },
    {
     "cell_type": "markdown",
     "metadata": {},
     "source": [
      "y si quisi\u00e9ramos ver los primeros 10 datos, escribir\u00edamos:"
     ]
    },
    {
     "cell_type": "code",
     "collapsed": false,
     "input": [
      "x[0:10]"
     ],
     "language": "python",
     "metadata": {},
     "outputs": [
      {
       "metadata": {},
       "output_type": "pyout",
       "prompt_number": 8,
       "text": [
        "array([-0.84828964,  0.14618484,  0.89443725,  1.00246335,  1.73025018,\n",
        "        0.19588852, -1.112536  ,  0.26849866, -1.90379557,  0.72625877])"
       ]
      }
     ],
     "prompt_number": 8
    },
    {
     "cell_type": "heading",
     "level": 4,
     "metadata": {},
     "source": [
      "Estad\u00edstica descriptiva de nuestro conjunto de datos"
     ]
    },
    {
     "cell_type": "markdown",
     "metadata": {},
     "source": [
      "Supongamos ahora que buscamos determinar la media, la mediana y la desviaci\u00f3n est\u00e1ndar de nuestro conjunto de datos. Para lograr esto, s\u00f3lo basta con saber c\u00f3mo se denominan las funciones que calculan cada uno de dichos estimadores en Python. \n",
      "\n",
      "En Python, la media se calcula usando \"mean\", la mediana mediante \"median\" y la desviaci\u00f3n est\u00e1ndar empleando \"std\". Estas tres funciones son parte de la librer\u00eda NUMPY, lo que implica que debemos anteponer \"np.\" cada vez que las utilicemos."
     ]
    },
    {
     "cell_type": "markdown",
     "metadata": {},
     "source": [
      "Entonces, para calcular la media de la distribuci\u00f3n de datos, hacemos:"
     ]
    },
    {
     "cell_type": "code",
     "collapsed": false,
     "input": [
      "np.mean(x)"
     ],
     "language": "python",
     "metadata": {},
     "outputs": [
      {
       "metadata": {},
       "output_type": "pyout",
       "prompt_number": 9,
       "text": [
        "-0.0033411942072785854"
       ]
      }
     ],
     "prompt_number": 9
    },
    {
     "cell_type": "markdown",
     "metadata": {},
     "source": [
      "y Python nos da como respuesta **en la consola** el resultado para la media de nuestra distribuci\u00f3n."
     ]
    },
    {
     "cell_type": "markdown",
     "metadata": {},
     "source": [
      "Similarmente, para determinar la mediana:"
     ]
    },
    {
     "cell_type": "code",
     "collapsed": false,
     "input": [
      "np.median(x)"
     ],
     "language": "python",
     "metadata": {},
     "outputs": [
      {
       "metadata": {},
       "output_type": "pyout",
       "prompt_number": 10,
       "text": [
        "-0.0058024977652625428"
       ]
      }
     ],
     "prompt_number": 10
    },
    {
     "cell_type": "markdown",
     "metadata": {},
     "source": [
      "Y finalmente, para calcular la desviaci\u00f3n est\u00e1ndar,"
     ]
    },
    {
     "cell_type": "code",
     "collapsed": false,
     "input": [
      "np.std(x)"
     ],
     "language": "python",
     "metadata": {},
     "outputs": [
      {
       "metadata": {},
       "output_type": "pyout",
       "prompt_number": 11,
       "text": [
        "0.99896267163335262"
       ]
      }
     ],
     "prompt_number": 11
    },
    {
     "cell_type": "heading",
     "level": 4,
     "metadata": {},
     "source": [
      "Creaci\u00f3n de un histograma para representar gr\u00e1ficamente la serie de datos"
     ]
    },
    {
     "cell_type": "markdown",
     "metadata": {},
     "source": [
      "Para crear cualquier tipo de gr\u00e1fico debemos, antes que nada, cargar la librer\u00eda gr\u00e1fica que se encargar\u00e1 de construir el gr\u00e1fico y mostrarlo en pantalla. La librer\u00eda que nosotros utilizaremos es MATPLOTLIB, paquete que ya mencionamos con anterioridad. Para ello, hacemos:"
     ]
    },
    {
     "cell_type": "code",
     "collapsed": false,
     "input": [
      "import matplotlib.pyplot as plt"
     ],
     "language": "python",
     "metadata": {},
     "outputs": [],
     "prompt_number": 12
    },
    {
     "cell_type": "code",
     "collapsed": false,
     "input": [
      "plt.ion()"
     ],
     "language": "python",
     "metadata": {},
     "outputs": [],
     "prompt_number": 13
    },
    {
     "cell_type": "markdown",
     "metadata": {},
     "source": [
      "La primera de estas dos l\u00edneas carga la librer\u00eda gr\u00e1fica MATPLOTLIB, y le dice a Python que, en adelante, nos estaremos refiriendo a ella simplemente como \"plt\". \n",
      "\n",
      "Por otro lado, la segunda l\u00ednea le dice a Python que utilizaremos la librer\u00eda MATPLOTLIB en forma **interactiva**; la expresi\u00f3n \"ion\" equivale a \"**I**nteractive **ON**\". Cuando decimos que utilizaremos interactivamente la librer\u00eda nos referimos a que buscamos que los gr\u00e1ficos que creemos permanezcan abiertos en pantalla mientras que, en forma simult\u00e1nea, seguimos ingresando instrucciones en la consola de Spyder _sin tener que cerrar el gr\u00e1fico para continuar trabajando._\n",
      "\n",
      "Hasta aqu\u00ed s\u00f3lo hemos cargado la librer\u00eda gr\u00e1fica. \n",
      "\n",
      "Vamos ahora a construir el histograma de nuestra serie de datos. En particular, vamos a pedirle a Python que emplee un total de -digamos- $20$ columnas (o \"bins\") para construir el histograma. Esto es sencillo si sabemos que la instrucci\u00f3n para construir histogramas es \"hist\", y que toma dos argumentos: el primero de ellos es el conjunto de datos sobre el cu\u00e1l calcular el histograma, y el segundo es la cantidad de bins a emplear. Ahora bien, como la funci\u00f3n \"hist\" es parte de MATPLOTLIB, debemos anteponer la expresi\u00f3n \"plt.\" al emplearla. Entonces hacemos:"
     ]
    },
    {
     "cell_type": "code",
     "collapsed": false,
     "input": [
      "plt.hist(x,20)"
     ],
     "language": "python",
     "metadata": {},
     "outputs": [
      {
       "metadata": {},
       "output_type": "pyout",
       "prompt_number": 14,
       "text": [
        "(array([  1.00000000e+00,   4.00000000e+00,   8.00000000e+00,\n",
        "          3.80000000e+01,   1.07000000e+02,   2.74000000e+02,\n",
        "          5.88000000e+02,   9.77000000e+02,   1.42700000e+03,\n",
        "          1.64100000e+03,   1.66900000e+03,   1.37600000e+03,\n",
        "          9.19000000e+02,   5.21000000e+02,   2.64000000e+02,\n",
        "          1.20000000e+02,   4.50000000e+01,   1.60000000e+01,\n",
        "          2.00000000e+00,   3.00000000e+00]),\n",
        " array([-4.24964168, -3.82376856, -3.39789544, -2.97202232, -2.54614919,\n",
        "        -2.12027607, -1.69440295, -1.26852982, -0.8426567 , -0.41678358,\n",
        "         0.00908955,  0.43496267,  0.86083579,  1.28670892,  1.71258204,\n",
        "         2.13845516,  2.56432829,  2.99020141,  3.41607453,  3.84194766,\n",
        "         4.26782078]),\n",
        " <a list of 20 Patch objects>)"
       ]
      },
      {
       "metadata": {},
       "output_type": "display_data",
       "png": "[encoded data removed]",
       "text": [
        "<matplotlib.figure.Figure at 0x104cbacd0>"
       ]
      }
     ],
     "prompt_number": 14
    },
    {
     "cell_type": "markdown",
     "metadata": {},
     "source": [
      "Y habremos logrado construir el histograma de nuestro conjunto de datos.\n",
      "\n",
      "Finalmente, conviene quiz\u00e1s agregar un t\u00edtulo al gr\u00e1fico y a los ejes, e incorporar una grilla para poder visualizar m\u00e1s f\u00e1cilmente los datos. Esto lo hacemos mediante las siguientes l\u00edneas de c\u00f3digo:"
     ]
    },
    {
     "cell_type": "code",
     "collapsed": false,
     "input": [
      "plt.hist(x,20)\n",
      "plt.title('Histograma')\n",
      "plt.xlabel('eje x [unidades de x]')\n",
      "plt.ylabel('eje y [unidades de y]')\n",
      "plt.grid('on')"
     ],
     "language": "python",
     "metadata": {},
     "outputs": [
      {
       "metadata": {},
       "output_type": "display_data",
       "png": "[encoded data removed]",
       "text": [
        "<matplotlib.figure.Figure at 0x10526d190>"
       ]
      }
     ],
     "prompt_number": 15
    },
    {
     "cell_type": "heading",
     "level": 2,
     "metadata": {},
     "source": [
      "Sumario"
     ]
    },
    {
     "cell_type": "markdown",
     "metadata": {},
     "source": [
      "Este documento les mostr\u00f3 a vista de p\u00e1jaro las capacidades de Python, c\u00f3mo utilizar una interfaz de desarrollo como Spyder y les di\u00f3 ejemplos del uso concreto para analizar una serie de datos en t\u00e9rminos de su estad\u00edstica descriptiva y de la construcci\u00f3n de gr\u00e1ficos.\n",
      "\n",
      "En el curso de Laboratorio continuaremos construyendo a partir de esta base, incorporando nuevas herramientas de an\u00e1lisis y de representaci\u00f3n gr\u00e1fica. "
     ]
    }
   ],
   "metadata": {}
  }
 ]
}
