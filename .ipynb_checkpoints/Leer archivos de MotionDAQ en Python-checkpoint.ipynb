{
 "metadata": {
  "name": "",
  "signature": "sha256:01d8b7ebb6322b6f4be5ed2866a3fd4a7c049407dd46dabf14396c6efe2b7710"
 },
 "nbformat": 3,
 "nbformat_minor": 0,
 "worksheets": [
  {
   "cells": [
    {
     "cell_type": "heading",
     "level": 1,
     "metadata": {},
     "source": [
      "C\u00f3mo leer archivos de MotionDAQ en Python"
     ]
    },
    {
     "cell_type": "markdown",
     "metadata": {},
     "source": [
      "\n",
      "**Pablo Cobelli** - Departamento de F\u00edsica, FCEN-UBA, Argentina.  \n",
      "Laboratorios B\u00e1sicos de Ense\u00f1anza - _\u00daltima actualizaci\u00f3n: Febrero de 2015._  "
     ]
    },
    {
     "cell_type": "markdown",
     "metadata": {},
     "source": [
      "**Este apunte tiene licencia [Creative Commons Attribution 4.0 International License](http://creativecommons.org/licenses/by/4.0/). **\n",
      "\n",
      "----"
     ]
    },
    {
     "cell_type": "heading",
     "level": 2,
     "metadata": {},
     "source": [
      "C\u00f3digo de la funci\u00f3n"
     ]
    },
    {
     "cell_type": "code",
     "collapsed": false,
     "input": [
      "def leermd(filename):\n",
      "    result = []\n",
      "    from pandas import read_csv\n",
      "    import numpy as np\n",
      "    # Leer el archivo, separado por tabulaciones, salteando 3 lineas de header\n",
      "    #     y empleando la coma como separador decimal\n",
      "    df = read_csv(filename, sep='\\t', skiprows=3, decimal=',')\n",
      "    # Convertir el dataframe de pandas a un array de numpy\n",
      "    nparray = df.as_matrix()\n",
      "    # Remover los posibles nans del archivo\n",
      "    nparray = nparray[~np.isnan(nparray).any(axis=1)]\n",
      "    # Asignar las columnas a variables de salida\n",
      "    for cols in range(nparray.shape[1]):\n",
      "        out = nparray[:,cols]\n",
      "        result.append(out)\n",
      "        \n",
      "    return result"
     ],
     "language": "python",
     "metadata": {},
     "outputs": [],
     "prompt_number": 139
    },
    {
     "cell_type": "markdown",
     "metadata": {},
     "source": [
      "Esta funci\u00f3n cumple con:\n",
      "    \n",
      "* Remover toda fila en la que haya un \"NaN\", lo que ocurre frecuentemente con los \u00faltimos elementos del archivo MotionDAQ\n",
      "* Devolver tantas variables de salida como columnas tenga el archivo original\n",
      "* Devolver variables que son ndarrays de numpy\n",
      "* Compensar el hecho de que el archivo de MotionDAQ usa la coma \",\" como separador decimal\n",
      "* Saltearse las l\u00edneas iniciales que corresponden al header del archivo MotionDAQ"
     ]
    },
    {
     "cell_type": "heading",
     "level": 2,
     "metadata": {},
     "source": [
      "Modo de uso"
     ]
    },
    {
     "cell_type": "markdown",
     "metadata": {},
     "source": [
      "La funcion de lectura se invoca de la siguiente forma:"
     ]
    },
    {
     "cell_type": "code",
     "collapsed": false,
     "input": [
      "ts, ph = leermd('motiondaqdata.txt')"
     ],
     "language": "python",
     "metadata": {},
     "outputs": [],
     "prompt_number": 153
    },
    {
     "cell_type": "markdown",
     "metadata": {},
     "source": [
      "Confirmamos que la funcion devuelve arrays de numpy (ndarrays) tipo `float64`:"
     ]
    },
    {
     "cell_type": "code",
     "collapsed": false,
     "input": [
      "type(ts), ts.dtype, type(ph), ph.dtype"
     ],
     "language": "python",
     "metadata": {},
     "outputs": [
      {
       "metadata": {},
       "output_type": "pyout",
       "prompt_number": 158,
       "text": [
        "(numpy.ndarray, dtype('float64'), numpy.ndarray, dtype('float64'))"
       ]
      }
     ],
     "prompt_number": 158
    },
    {
     "cell_type": "markdown",
     "metadata": {},
     "source": [
      "Los contenidos comienzan y terminan segun lo esperado:"
     ]
    },
    {
     "cell_type": "code",
     "collapsed": false,
     "input": [
      "ts, ph"
     ],
     "language": "python",
     "metadata": {},
     "outputs": [
      {
       "metadata": {},
       "output_type": "pyout",
       "prompt_number": 152,
       "text": [
        "(array([  0.00000000e+00,   3.66300000e-03,   7.32600000e-03, ...,\n",
        "          9.98901100e+00,   9.99267400e+00,   9.99633700e+00]),\n",
        " array([ 0.3370326,  0.3445682,  0.3445682, ...,  0.3345208,  0.3345208,\n",
        "         0.3370326]))"
       ]
      }
     ],
     "prompt_number": 152
    },
    {
     "cell_type": "heading",
     "level": 2,
     "metadata": {},
     "source": [
      "Visualizando los datos"
     ]
    },
    {
     "cell_type": "markdown",
     "metadata": {},
     "source": [
      "Finalmente es posible visualizar los datos cargados, en la siguiente forma:"
     ]
    },
    {
     "cell_type": "code",
     "collapsed": false,
     "input": [
      "import matplotlib.pyplot as plt\n",
      "%matplotlib inline"
     ],
     "language": "python",
     "metadata": {},
     "outputs": [],
     "prompt_number": 105
    },
    {
     "cell_type": "code",
     "collapsed": false,
     "input": [
      "plt.plot(ts,ph,'.-')\n",
      "plt.axis([0.6,1,0,5]);\n",
      "plt.grid('on')\n",
      "plt.xlabel('t [seg]')\n",
      "plt.ylabel('Senal Photogate [u.a.]')"
     ],
     "language": "python",
     "metadata": {},
     "outputs": [
      {
       "metadata": {},
       "output_type": "pyout",
       "prompt_number": 154,
       "text": [
        "<matplotlib.text.Text at 0x10b500240>"
       ]
      },
      {
       "metadata": {},
       "output_type": "display_data",
       "png": "[encoded data removed]",
       "text": [
        "<matplotlib.figure.Figure at 0x10be62eb8>"
       ]
      }
     ],
     "prompt_number": 154
    }
   ],
   "metadata": {}
  }
 ]
}