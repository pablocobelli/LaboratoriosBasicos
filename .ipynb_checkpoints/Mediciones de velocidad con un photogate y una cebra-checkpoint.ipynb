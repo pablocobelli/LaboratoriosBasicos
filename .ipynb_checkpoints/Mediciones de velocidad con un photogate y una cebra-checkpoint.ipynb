{
 "metadata": {
  "name": "",
  "signature": "sha256:0592244f05f2a1db7ec58e1dd425b73b44a98772c63e4301236cfd7be9aab1ff"
 },
 "nbformat": 3,
 "nbformat_minor": 0,
 "worksheets": [
  {
   "cells": [
    {
     "cell_type": "heading",
     "level": 1,
     "metadata": {},
     "source": [
      "Mediciones de velocidad con un photogate y una cebra"
     ]
    },
    {
     "cell_type": "markdown",
     "metadata": {},
     "source": [
      "\n",
      "**Pablo Cobelli** - Departamento de F\u00edsica, FCEN-UBA, Argentina.  \n",
      "Laboratorios B\u00e1sicos de Ense\u00f1anza - _\u00daltima actualizaci\u00f3n: Febrero de 2015._  "
     ]
    },
    {
     "cell_type": "markdown",
     "metadata": {},
     "source": [
      "**Este apunte tiene licencia [Creative Commons Attribution 4.0 International License](http://creativecommons.org/licenses/by/4.0/). **\n",
      "\n",
      "----"
     ]
    },
    {
     "cell_type": "heading",
     "level": 2,
     "metadata": {},
     "source": [
      "Velocidad instant\u00e1nea y velocidad media en MRUV"
     ]
    },
    {
     "cell_type": "markdown",
     "metadata": {},
     "source": [
      "En este apartado vamos a mostrar que **en cualquier intervalo de duraci\u00f3n $\\Delta t$ de un movimiento rectil\u00edneo uniformemente variado (MRUV), la velocidad instant\u00e1nea y la velocidad media coinciden en valor en el instante central de dicho intervalo** (y s\u00f3lo all\u00ed).  "
     ]
    },
    {
     "cell_type": "markdown",
     "metadata": {},
     "source": [
      "En primer lugar, la velocidad instant\u00e1nea $v_i$ en un MRUV siempre puede escribirse como"
     ]
    },
    {
     "cell_type": "markdown",
     "metadata": {},
     "source": [
      "$$v_i(t) = a \\: t + v_0,$$"
     ]
    },
    {
     "cell_type": "markdown",
     "metadata": {},
     "source": [
      "siendo $a$ la aceleraci\u00f3n y $v_0$ la velocidad inicial (es decir, la velocidad del m\u00f3vil a tiempo $t = 0$). "
     ]
    },
    {
     "cell_type": "markdown",
     "metadata": {},
     "source": [
      "Consideremos ahora el movimiento del m\u00f3vil durante un intervalo temporal que se inicia en $t_1$ y finaliza en $t_2$, y cuya duraci\u00f3n llamaremos $\\Delta t \\equiv t_2 - t_1$. En dicho intervalo,\n",
      "la velocidad media $v_m$ del m\u00f3vil vendr\u00e1 dada por"
     ]
    },
    {
     "cell_type": "markdown",
     "metadata": {},
     "source": [
      "$$v_m \\: \\big|_{t_1\\rightarrow t_2} = \\frac{1}{\\Delta t} \\: \\int_{t_1}^{t_2} \\: v_i(t) \\: dt.$$"
     ]
    },
    {
     "cell_type": "markdown",
     "metadata": {},
     "source": [
      "Si en esta \u00faltima expresi\u00f3n reemplazamos la forma funcional para la velocidad instant\u00e1nea, podemos calcular expl\u00edcitamente la integral:"
     ]
    },
    {
     "cell_type": "markdown",
     "metadata": {},
     "source": [
      "\\begin{align} \n",
      "v_m \\: \\big|_{t_1\\rightarrow t_2} &= \\frac{1}{\\Delta t} \\: \\int_{t_1}^{t_2} \\: v_i(t) \\: dt = \\\\ \n",
      "&= \\frac{1}{\\Delta t} \\: \\int_{t_1}^{t_2} \\: (a t + v_0) \\: dt = \\\\ \n",
      "&= \\frac{1}{\\Delta t} \\: \\left( \\frac{1}{2}\\: a t^2 + v_0 \\: t \\right)\\bigg|_{t_1}^{t_2}  = \\\\\n",
      "&= \\frac{1}{\\Delta t} \\: \\left\\{ \\: \\left[ \\frac{1}{2}\\: a \\: t_2^2 + v_0 \\: t_2 \\right] - \\left[ \\frac{1}{2}\\: a \\: t_1^2 + v_0 t_1 \\right] \\: \\right\\} = \\\\\n",
      "&= \\frac{1}{\\Delta t} \\: \\left[ \\: \\frac{1}{2}\\: a \\: \\left(t_2^2  - t_1^2\\right) + v_0 \\left(t_2 -t_1\\right) \\: \\right] = \\\\\n",
      "&= \\frac{1}{\\Delta t} \\: \\left[ \\: \\frac{1}{2}\\: a \\: \\left(t_2 + t_1\\right)\\left(t_2-t_1 \\right) + v_0 \\left(t_2 -t_1\\right) \\: \\right] = \\\\\n",
      "&= \\frac{1}{\\Delta t} \\: \\left[ \\: \\frac{1}{2}\\: a \\: \\left(t_2 + t_1\\right)\\left(\\Delta t \\right) + v_0 \\Delta t \\: \\right] = \\\\\n",
      "&= a \\: \\left( \\frac{t_2 + t_1}{2} \\right) + v_0.\n",
      "\\end{align}"
     ]
    },
    {
     "cell_type": "markdown",
     "metadata": {},
     "source": [
      "Luego hemos obtenido que la velocidad media sobre el intervalo que va de $t_1$ a $t_2$ est\u00e1 dada por:"
     ]
    },
    {
     "cell_type": "markdown",
     "metadata": {},
     "source": [
      "$$v_m \\: \\big|_{t_1\\rightarrow t_2} = a \\: \\left( \\frac{t_2 + t_1}{2} \\right) + v_0.$$"
     ]
    },
    {
     "cell_type": "markdown",
     "metadata": {},
     "source": [
      "Comparando este resultado con la definicion de velocidad instant\u00e1nea para el MRUV que dimos anteriormente, vemos\n",
      "que el \u00fanico instante $t^*$ donde ambas coinciden es aquel donde vale:"
     ]
    },
    {
     "cell_type": "markdown",
     "metadata": {},
     "source": [
      "$$t^* = \\frac{t_2+t_1}{2},$$"
     ]
    },
    {
     "cell_type": "markdown",
     "metadata": {},
     "source": [
      "que corresponde al centro del intervalo temporal. Esto \u00faltimo es f\u00e1cil de ver dado que el intervalo se inicia en $t_1$, y \n",
      "la mitad de su duraci\u00f3n es $(t_2-t_1)\\: /\\: 2$; con lo cu\u00e1l el instante central corresponde al tiempo $t_1 + (t_2-t_1)\\: /\\: 2= (t_2+t_1)\\: /\\: 2$."
     ]
    },
    {
     "cell_type": "code",
     "collapsed": false,
     "input": [],
     "language": "python",
     "metadata": {},
     "outputs": []
    }
   ],
   "metadata": {}
  }
 ]
}