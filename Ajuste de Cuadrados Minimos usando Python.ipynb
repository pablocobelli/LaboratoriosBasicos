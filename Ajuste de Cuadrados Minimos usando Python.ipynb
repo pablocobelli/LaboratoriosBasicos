{
 "metadata": {
  "name": "",
  "signature": "sha256:f148533de423a63116334d70fdc2e455f093bdecade5f69d2b3f4473e0034dd2"
 },
 "nbformat": 3,
 "nbformat_minor": 0,
 "worksheets": [
  {
   "cells": [
    {
     "cell_type": "heading",
     "level": 1,
     "metadata": {},
     "source": [
      "Ajuste de Cuadrados M\u00ednimos Lineales usando Python"
     ]
    },
    {
     "cell_type": "markdown",
     "metadata": {},
     "source": [
      "\n",
      "**Pablo Cobelli** - Departamento de F\u00edsica, FCEN-UBA, Argentina.  \n",
      "Laboratorios B\u00e1sicos de Ense\u00f1anza - _\u00daltima actualizaci\u00f3n: Febrero de 2015._  "
     ]
    },
    {
     "cell_type": "markdown",
     "metadata": {},
     "source": [
      "**Este apunte tiene licencia [Creative Commons Attribution 4.0 International License](http://creativecommons.org/licenses/by/4.0/). **\n",
      "\n",
      "----"
     ]
    },
    {
     "cell_type": "heading",
     "level": 2,
     "metadata": {},
     "source": [
      "C\u00f3mo utilizar este documento"
     ]
    },
    {
     "cell_type": "markdown",
     "metadata": {},
     "source": [
      "\n",
      "Este documento es una gu\u00eda para calcular un ajuste de cuadrados m\u00ednimos completo para un modelo lineal (incluyendo el c\u00e1lculo de los valores de los par\u00e1metros, sus incertezas y el coeficiente de Pearson) y para generar el gr\u00e1fico asociado empleando Python. \n",
      "\n",
      "Se emplean las librer\u00edas **[numpy](http://www.numpy.org)** (para c\u00e1lculo num\u00e9rico) y **[matplotlib](http://www.matplotlib.org)** (para la representaci\u00f3n gr\u00e1fica de datos). \n",
      "\n",
      "Cada l\u00ednea de c\u00f3digo necesaria para el c\u00e1lculo del ajuste se representa en letras de tipo de m\u00e1quina de escribir (`como este texto`) y est\u00e1 precedida por la expresi\u00f3n \"`In [\u00b7]:`\", en azul. Por el contrario, las expresiones precedidas por \"`Out [\u00b7]:`\" representan la respuesta que Python nos d\u00e1 a las instrucciones que le pasamos.\n"
     ]
    },
    {
     "cell_type": "heading",
     "level": 2,
     "metadata": {},
     "source": [
      "Breve resumen de lo visto en clase"
     ]
    },
    {
     "cell_type": "markdown",
     "metadata": {},
     "source": [
      "En clase de laboratorio vimos que, si tenemos dos series de $N$ datos cada una, dadas por $\\{x_i, y_i\\}$ y un modelo del tipo $y(x)=ax+b$, entonces los valores para los par\u00e1metros del ajuste de cuadrados m\u00ednimos se obtienen a partir las expresiones:"
     ]
    },
    {
     "cell_type": "markdown",
     "metadata": {},
     "source": [
      "$$a = \\frac{N\\sum x_i y_i - \\sum x_i \\sum y_i}{N \\sum x_i^2 - \\left(\\sum x_i\\right)^2},$$ "
     ]
    },
    {
     "cell_type": "markdown",
     "metadata": {},
     "source": [
      "$$b = \\frac{\\sum x_i^2 \\sum y_i - \\sum x_i \\sum x_i y_i}{N \\sum x_i^2 - \\left(\\sum x_i\\right)^2}.$$"
     ]
    },
    {
     "cell_type": "markdown",
     "metadata": {},
     "source": [
      "Por otro lado, las incertezas asociadas a los valores de $a$ y de $b$ se obtienen, como\n",
      "mencionamos, realizando la propagaci\u00f3n de errores correspondiente. De ese c\u00e1lculo se obtiene,"
     ]
    },
    {
     "cell_type": "markdown",
     "metadata": {},
     "source": [
      "$$\\sigma_a = \\sigma_y \\: \\sqrt{\\frac{N}{N \\sum x_i^2 - \\left(\\sum x_i\\right)^2}},$$"
     ]
    },
    {
     "cell_type": "markdown",
     "metadata": {},
     "source": [
      "$$\\sigma_b = \\sigma_y \\: \\sqrt{\\frac{\\sum x_i^2}{N \\sum x_i^2 - \\left(\\sum x_i\\right)^2}},$$"
     ]
    },
    {
     "cell_type": "markdown",
     "metadata": {},
     "source": [
      "siendo\n",
      "\n",
      "$$\\sigma_y = \\sqrt{\\frac{1}{N-2} \\: \\sum \\big[ y_i - y(x_i)\\big ]^2}.$$"
     ]
    },
    {
     "cell_type": "markdown",
     "metadata": {},
     "source": [
      "En \u00faltimo lugar vimos que la determinaci\u00f3n del coeficiente de Pearson, $R^2$, para la bondad del ajuste se calcula, a partir de los datos experimentales, por medio de la siguiente expresi\u00f3n:"
     ]
    },
    {
     "cell_type": "markdown",
     "metadata": {},
     "source": [
      "$$R^2 = \\frac{\\big[ N \\sum x_i y_i - \\sum x_i \\sum y_i \\big]^2}{\\big[ N \\sum x_i^2 - \\left(\\sum x_i\\right)^2 \\big] \\big[ N \\sum y_i^2 - \\left(\\sum y_i\\right)^2 \\big]}.$$"
     ]
    },
    {
     "cell_type": "heading",
     "level": 2,
     "metadata": {},
     "source": [
      "Dos observaciones antes de comenzar"
     ]
    },
    {
     "cell_type": "markdown",
     "metadata": {},
     "source": [
      "Antes de comenzar a implementar estos c\u00e1lculos en Python, conviene realizar dos\n",
      "observaciones que nos van a servir para **ahorrar trabajo computacional** (y los posibles errores que de \u00e9l pudieran surgir)."
     ]
    },
    {
     "cell_type": "markdown",
     "metadata": {},
     "source": [
      "Notemos que:\n",
      "    \n",
      "* El denominador de la expresi\u00f3n para $a$ se repite en la expresi\u00f3n para $b$, y tambi\u00e9n en la expresiones para $\\sigma_a$, $\\sigma_b$ y $R^2$. Esto podemos utilizarlo a nuestro favor, definir ese valor como una variable, $\\Delta$, que **solo calcularemos una vez**.\n",
      "\n",
      "\n",
      "* El numerador de la expresi\u00f3n para $a$ se repite en el numerador de la expresi\u00f3n para $R^2$; esto tambi\u00e9n nos ahorrar\u00e1 trabajo (y nos alejar\u00e1 de posibles errores) en lo que sigue."
     ]
    },
    {
     "cell_type": "heading",
     "level": 2,
     "metadata": {},
     "source": [
      "Un conjunto \"sint\u00e9tico\" de datos para trabajar"
     ]
    },
    {
     "cell_type": "markdown",
     "metadata": {},
     "source": [
      "Para realizar el ajuste de cuadrados m\u00ednimos necesitamos dos conjuntos de datos; uno $x_i$ y otro $y_i$. En el trabajo diario estos datos provendr\u00e1n de las experiencias de \n",
      "laboratorio; en este caso vamos a utilizar un set de datos sint\u00e9tico, es decir, creado manualmente. "
     ]
    },
    {
     "cell_type": "markdown",
     "metadata": {},
     "source": [
      "Antes de eso, vamos a cargar en Python la librer\u00eda **[numpy](http://www.numpy.org)**, que nos servir\u00e1 para todos los c\u00e1lculos num\u00e9ricos que realizaremos a continuaci\u00f3n. Esto lo logramos mediante la instrucci\u00f3n:"
     ]
    },
    {
     "cell_type": "code",
     "collapsed": false,
     "input": [
      "import numpy as np"
     ],
     "language": "python",
     "metadata": {},
     "outputs": [],
     "prompt_number": 1
    },
    {
     "cell_type": "markdown",
     "metadata": {},
     "source": [
      "A continuaci\u00f3n ingresamos manualmente los valores para `x` y para `y`, vali\u00e9ndonos\n",
      "de la funci\u00f3n `array`, que le dice a Python que los n\u00fameros que integran la lista son\n",
      "los diferentes valores de la variable. Hacemos entonces: "
     ]
    },
    {
     "cell_type": "code",
     "collapsed": false,
     "input": [
      "x = np.array([1, 2.1, 2.9, 3.5, 4.1, 6.2, 7.4, 7.9, 9.2, 10.1])"
     ],
     "language": "python",
     "metadata": {},
     "outputs": [],
     "prompt_number": 2
    },
    {
     "cell_type": "code",
     "collapsed": false,
     "input": [
      "y = np.array([1.26, 4.75, 8.91, 7.93, 10.34, 16.7, 18.04, 20.87, 23.37, 27.02])"
     ],
     "language": "python",
     "metadata": {},
     "outputs": [],
     "prompt_number": 3
    },
    {
     "cell_type": "markdown",
     "metadata": {},
     "source": [
      "**Nota:** Observen que la funci\u00f3n `array` se emplea usando par\u00e9ntesis y poniendo la lista de n\u00fameros entre corchetes, separando cada uno de ellos por una coma (\",\")."
     ]
    },
    {
     "cell_type": "markdown",
     "metadata": {},
     "source": [
      "Para tener una idea de c\u00f3mo se ven nuestros datos, podemos construir un gr\u00e1fico simple:"
     ]
    },
    {
     "cell_type": "code",
     "collapsed": false,
     "input": [
      "import matplotlib.pyplot as plt\n",
      "plt.plot(x, y, 'ob')\n",
      "plt.xlabel('x')\n",
      "plt.ylabel('y')\n",
      "plt.title('Conjunto sintetico de datos para ilustrar el ajuste de cuadrados minimos')\n",
      "plt.grid()"
     ],
     "language": "python",
     "metadata": {},
     "outputs": [
      {
       "output_type": "stream",
       "stream": "stdout",
       "text": [
        "Populating the interactive namespace from numpy and matplotlib\n"
       ]
      },
      {
       "metadata": {},
       "output_type": "display_data",
       "png": "[encoded data removed]",
       "text": [
        "<matplotlib.figure.Figure at 0x104463cc0>"
       ]
      }
     ],
     "prompt_number": 4
    },
    {
     "cell_type": "heading",
     "level": 2,
     "metadata": {},
     "source": [
      "Ajuste de cuadrados m\u00ednimos en Python"
     ]
    },
    {
     "cell_type": "heading",
     "level": 3,
     "metadata": {},
     "source": [
      "Ladrillos elementales"
     ]
    },
    {
     "cell_type": "markdown",
     "metadata": {},
     "source": [
      "Comencemos por repasar c\u00f3mo calcular en Python expresiones que ya conocemos del an\u00e1lisis\n",
      "matem\u00e1tico. La siguiente tabla de dos columnas muestra una expresi\u00f3n matem\u00e1tica conocida\n",
      "a la izquierda y su contraparte en Python, a la derecha. En todos los casos, cada vez\n",
      "que aparece el signo de sumatoria $\\sum$, se asume que la suma se extiende sobre todos\n",
      "los valores de la variable. \n",
      "\n",
      "La tabla es:"
     ]
    },
    {
     "cell_type": "markdown",
     "metadata": {},
     "source": [
      "$x_i \\quad \\longrightarrow  \\quad$ `x`\n",
      "\n",
      "$x_i^2 \\quad \\longrightarrow  \\quad$ `x**2`\n",
      "\n",
      "$\\sqrt{x_i} \\quad \\longrightarrow  \\quad$ `np.sqrt(x)`\n",
      "\n",
      "$\\sum x_i \\quad \\longrightarrow  \\quad$ `np.sum(x)`\n",
      "\n",
      "$\\sum x_i^2 \\quad \\longrightarrow  \\quad$ `np.sum(x**2)`\n",
      "\n",
      "$\\sum x_i y_i \\quad \\longrightarrow  \\quad$ `np.sum(x*y)`\n",
      "\n",
      "$\\big( \\sum x_i \\big)^2 \\quad \\longrightarrow  \\quad$ `np.sum(x)**2`"
     ]
    },
    {
     "cell_type": "markdown",
     "metadata": {},
     "source": [
      "Estos son entonces los \"ladrillos elementales\" con los que construiremos todos los c\u00e1lculos para realizar el ajuste de cuadrados m\u00ednimos en la subsecci\u00f3n siguiente."
     ]
    },
    {
     "cell_type": "heading",
     "level": 3,
     "metadata": {},
     "source": [
      "Calculando los par\u00e1metros del ajuste"
     ]
    },
    {
     "cell_type": "heading",
     "level": 4,
     "metadata": {},
     "source": [
      "Definiendo el valor de $N$"
     ]
    },
    {
     "cell_type": "markdown",
     "metadata": {},
     "source": [
      "Lo primero que debemos definir en Python antes de comenzar el ajuste de cuadrados m\u00ednimos\n",
      "es el valor de $N$, es decir, la cantidad de datos de los que disponemos. Recuerden que por $N$ entendemos la cantidad de **pares** $(x_i,y_i)$. En nuestro caso \"sint\u00e9tico\", tenemos $N=10$ pares."
     ]
    },
    {
     "cell_type": "markdown",
     "metadata": {},
     "source": [
      "Para definir `N` disponemos de dos posibilidades:\n",
      "\n",
      "1. decirle a Python que \"`N` es igual a 10\", en forma **fija**. \n",
      "\n",
      "1. decirle a Python que \"`N` es igual a la cantidad de datos que contiene la variable `x`\" ( o bien, igual a la cantidad de datos que contiene la variable `y`, claro est\u00e1)."
     ]
    },
    {
     "cell_type": "markdown",
     "metadata": {},
     "source": [
      "La primera forma se logra haciendo:"
     ]
    },
    {
     "cell_type": "code",
     "collapsed": false,
     "input": [
      "N = 10"
     ],
     "language": "python",
     "metadata": {},
     "outputs": [],
     "prompt_number": 5
    },
    {
     "cell_type": "markdown",
     "metadata": {},
     "source": [
      "La segunda forma de definir $N$ implica usar la funci\u00f3n `len` (del ingl\u00e9s, **len**ght, _largo_) que nos da la cantidad de elementos o valores que contiene una variable. En este caso hacemos:"
     ]
    },
    {
     "cell_type": "code",
     "collapsed": false,
     "input": [
      "N = len(x)"
     ],
     "language": "python",
     "metadata": {},
     "outputs": [],
     "prompt_number": 6
    },
    {
     "cell_type": "markdown",
     "metadata": {},
     "source": [
      "De cualquiera de estas dos formas logramos el objetivo de definir el valor concreto de `N`. \n",
      "\n",
      "Observemos que, a pesar de que la primera forma parece m\u00e1s directa, la segunda forma es la m\u00e1s intuitiva, ya que cuando definimos $N$ en clase lo hicimos pensando en que $N$ ser\u00eda la cantidad de datos, no un valor fijo como lo es $10$. Asimismo, la segunda forma es la m\u00e1s inteligente, ya que si agregamos uno o m\u00e1s puntos a nuestras variables y deseamos recalcular el ajuste, la definici\u00f3n con `N=10` deber\u00e1 modificarse, mientras que la segunda via `N=len(x)` seguir\u00e1 siendo correcta. "
     ]
    },
    {
     "cell_type": "heading",
     "level": 4,
     "metadata": {},
     "source": [
      "Calculando el valor del par\u00e1metro $a$ (la pendiente del ajuste)"
     ]
    },
    {
     "cell_type": "markdown",
     "metadata": {},
     "source": [
      "Comencemos por calcular ahora el valor del par\u00e1metro $a$, que en nuestro caso representa la pendiente del ajuste de cuadrados m\u00ednimos lineales. \n",
      "\n",
      "Dado que $a$ est\u00e1 dado por un cociente, y que tanto el numerador como el denominador de ese cociente se repite en otras cantidades que debemos calcular, vamos a definir cada uno de ellos por separado, **para escribirlos y calcularlos s\u00f3lo una vez**.\n",
      "\n",
      "Definamos entonces una variable llamada \"`numa`\" en la que almacenaremos el valor num\u00e9rico del numerador de a. Para ello, hacemos:"
     ]
    },
    {
     "cell_type": "code",
     "collapsed": false,
     "input": [
      "numa = N * np.sum(x*y) - np.sum(x) * np.sum(y)"
     ],
     "language": "python",
     "metadata": {},
     "outputs": [],
     "prompt_number": 7
    },
    {
     "cell_type": "markdown",
     "metadata": {},
     "source": [
      "En forma similar, definamos una variable llamada \"`delta`\" que contendr\u00e1 el valor del denominador de `a`:"
     ]
    },
    {
     "cell_type": "code",
     "collapsed": false,
     "input": [
      "delta = N * np.sum(x**2) - np.sum(x)**2"
     ],
     "language": "python",
     "metadata": {},
     "outputs": [],
     "prompt_number": 8
    },
    {
     "cell_type": "markdown",
     "metadata": {},
     "source": [
      "Luego el c\u00e1lculo del valor de `a` es muy simple:"
     ]
    },
    {
     "cell_type": "code",
     "collapsed": false,
     "input": [
      "a = numa/delta"
     ],
     "language": "python",
     "metadata": {},
     "outputs": [],
     "prompt_number": 9
    },
    {
     "cell_type": "markdown",
     "metadata": {},
     "source": [
      "A partir de la expresi\u00f3n anterior, Python ya conoce el valor num\u00e9rico de `a`. Si queremos visualizar **nosotros** en pantalla el valor obtenido para `a`, basta con hacer"
     ]
    },
    {
     "cell_type": "code",
     "collapsed": false,
     "input": [
      "a"
     ],
     "language": "python",
     "metadata": {},
     "outputs": [
      {
       "metadata": {},
       "output_type": "pyout",
       "prompt_number": 10,
       "text": [
        "2.6887179947087589"
       ]
      }
     ],
     "prompt_number": 10
    },
    {
     "cell_type": "markdown",
     "metadata": {},
     "source": [
      "para obtener el resultado buscado."
     ]
    },
    {
     "cell_type": "heading",
     "level": 4,
     "metadata": {},
     "source": [
      "Calculando el valor del par\u00e1metro $b$ (la ordenada al origen del ajuste)"
     ]
    },
    {
     "cell_type": "markdown",
     "metadata": {},
     "source": [
      "De forma id\u00e9ntica a lo que hicimos para el par\u00e1metro `a` en la secci\u00f3n anterior, calcularemos `b` como un cociente. Observemos que solo debemos calcular el numerador, que cuyo valor guardaremos en la variable \"`numb`\", el denominador es el mismo que el que ya calculamos para `a`, y que llamamos `delta`.\n",
      "\n",
      "Definimos entonces el numerador de `b` como:"
     ]
    },
    {
     "cell_type": "code",
     "collapsed": false,
     "input": [
      "numb = np.sum(x**2) * np.sum(y) - np.sum(x) * np.sum(x*y)"
     ],
     "language": "python",
     "metadata": {},
     "outputs": [],
     "prompt_number": 11
    },
    {
     "cell_type": "markdown",
     "metadata": {},
     "source": [
      "Calculamos entonces el valor num\u00e9rico del par\u00e1metro `b` (que, en nuestro caso, representa la ordenada al origen del ajuste) mediante:"
     ]
    },
    {
     "cell_type": "code",
     "collapsed": false,
     "input": [
      "b = numb/delta"
     ],
     "language": "python",
     "metadata": {},
     "outputs": [],
     "prompt_number": 12
    },
    {
     "cell_type": "markdown",
     "metadata": {},
     "source": [
      "Y finalmente mostramos su valor en pantalla haciendo"
     ]
    },
    {
     "cell_type": "code",
     "collapsed": false,
     "input": [
      "b"
     ],
     "language": "python",
     "metadata": {},
     "outputs": [
      {
       "metadata": {},
       "output_type": "pyout",
       "prompt_number": 13,
       "text": [
        "-0.70762589121564345"
       ]
      }
     ],
     "prompt_number": 13
    },
    {
     "cell_type": "heading",
     "level": 4,
     "metadata": {},
     "source": [
      "Calculando las incertezas $\\sigma_a, \\sigma_b$ en los par\u00e1metros del ajuste"
     ]
    },
    {
     "cell_type": "markdown",
     "metadata": {},
     "source": [
      "El c\u00e1lculo de las incertezas en los par\u00e1metros del ajuste es un poco m\u00e1s tedioso, pero desde el punto de vista de su implementaci\u00f3n en Python no presenta ninguna dificultad adicional respecto de lo que venimos haciendo en las secciones precedentes.\n",
      "\n",
      "Hacemos simplemente:"
     ]
    },
    {
     "cell_type": "code",
     "collapsed": false,
     "input": [
      "sigmay = np.sqrt( (1/(N-2)) * np.sum( (y - (a*x+b))**2 ) )"
     ],
     "language": "python",
     "metadata": {},
     "outputs": [],
     "prompt_number": 14
    },
    {
     "cell_type": "code",
     "collapsed": false,
     "input": [
      "sigmaa = sigmay * np.sqrt( N/delta )"
     ],
     "language": "python",
     "metadata": {},
     "outputs": [],
     "prompt_number": 15
    },
    {
     "cell_type": "code",
     "collapsed": false,
     "input": [
      "sigmab = sigmay * np.sqrt( np.sum(x**2)/delta )"
     ],
     "language": "python",
     "metadata": {},
     "outputs": [],
     "prompt_number": 16
    },
    {
     "cell_type": "markdown",
     "metadata": {},
     "source": [
      "Podemos visualizar en pantalla los valores para estos tres par\u00e1metros en forma simult\u00e1nea escribiendo:"
     ]
    },
    {
     "cell_type": "code",
     "collapsed": false,
     "input": [
      "sigmay, sigmaa, sigmab"
     ],
     "language": "python",
     "metadata": {},
     "outputs": [
      {
       "metadata": {},
       "output_type": "pyout",
       "prompt_number": 17,
       "text": [
        "(0.94900841605033281, 0.10047960042913469, 0.62357287067653799)"
       ]
      }
     ],
     "prompt_number": 17
    },
    {
     "cell_type": "markdown",
     "metadata": {},
     "source": [
      "donde el valor a la izquierda corresponde a `sigmay`, el central a `sigmaa` y el valor a la derecha es el correspondiente a `sigmab`."
     ]
    },
    {
     "cell_type": "heading",
     "level": 4,
     "metadata": {},
     "source": [
      "Calculando el coeficiente de Pearson del ajuste"
     ]
    },
    {
     "cell_type": "markdown",
     "metadata": {},
     "source": [
      "Recordemos que para determinar cu\u00e1n bueno es el ajuste (la _bondad del ajuste_) no basta con conocer los valores de sus par\u00e1metros ($a$ y $b$, en este caso) y/o sus incertezas. M\u00e1s a\u00fan: mencionamos en clase que **los valores de los par\u00e1metros y sus incertezas no constituyen ninguna medida de cu\u00e1n bueno es el ajuste**, es decir, de cu\u00e1n bien el modelo empleado representa o captura las caracter\u00edsticas del fen\u00f3meno bajo estudio."
     ]
    },
    {
     "cell_type": "markdown",
     "metadata": {},
     "source": [
      "A fin de determinar la bondad del ajuste, resulta imprescindible determinar el valor del coeficiente de Pearson, $R^2$, cuya forma funcional repasamos al inicio de este documento. "
     ]
    },
    {
     "cell_type": "markdown",
     "metadata": {},
     "source": [
      "Calculamos entonces:"
     ]
    },
    {
     "cell_type": "code",
     "collapsed": false,
     "input": [
      "R2 = (numa)**2 / ( (N*np.sum(x**2)-np.sum(x)**2) * (N*np.sum(y**2)-np.sum(y)**2) )"
     ],
     "language": "python",
     "metadata": {},
     "outputs": [],
     "prompt_number": 18
    },
    {
     "cell_type": "markdown",
     "metadata": {},
     "source": [
      "( **Dos preguntas:** _Por qu\u00e9 lo calculamos as\u00ed? Se les ocurre otra forma m\u00e1s ventajosa en la que podr\u00edamos calcular $R^2$?_ )"
     ]
    },
    {
     "cell_type": "markdown",
     "metadata": {},
     "source": [
      "En \u00faltimo lugar, mostramos el valor obtenido haciendo"
     ]
    },
    {
     "cell_type": "code",
     "collapsed": false,
     "input": [
      "R2"
     ],
     "language": "python",
     "metadata": {},
     "outputs": [
      {
       "metadata": {},
       "output_type": "pyout",
       "prompt_number": 19,
       "text": [
        "0.9889508219015124"
       ]
      }
     ],
     "prompt_number": 19
    },
    {
     "cell_type": "markdown",
     "metadata": {},
     "source": [
      "Finalmente, conviene recordar que este resultado debe compararse con el valor unidad, que representar\u00eda el caso ideal (pero impracticable) de correlaci\u00f3n perfecta entre los datos en el sentido planteado por el modelo que estamos testeando. "
     ]
    },
    {
     "cell_type": "heading",
     "level": 4,
     "metadata": {},
     "source": [
      "Graficando los resultados del ajuste de cuadrados m\u00ednimos"
     ]
    },
    {
     "cell_type": "markdown",
     "metadata": {},
     "source": [
      "Como colof\u00f3n, vamos a realizar un gr\u00e1fico a fin de visualizar en forma comparativa los datos experimentales y el ajuste de cuadrados m\u00ednimos lineales que realizamos."
     ]
    },
    {
     "cell_type": "markdown",
     "metadata": {},
     "source": [
      "Para ello, empleamos las siguientes instrucciones en Python. En primer lugar, cargamos la librer\u00eda `matplotlib` que nos va a permitir construir gr\u00e1ficos, haciendo:"
     ]
    },
    {
     "cell_type": "markdown",
     "metadata": {},
     "source": [
      "`import matplotlib.pyplot as plt`"
     ]
    },
    {
     "cell_type": "markdown",
     "metadata": {},
     "source": [
      "Luego graficamos los datos con puntos azules:"
     ]
    },
    {
     "cell_type": "markdown",
     "metadata": {},
     "source": [
      "`plt.plot(x, y, 'ob')`"
     ]
    },
    {
     "cell_type": "markdown",
     "metadata": {},
     "source": [
      "y, en la misma figura, graficamos tambi\u00e9n la recta que obtuvimos como resultado del ajuste, mediante:"
     ]
    },
    {
     "cell_type": "markdown",
     "metadata": {},
     "source": [
      "`plt.plot(x, a*x+b, '-r')`"
     ]
    },
    {
     "cell_type": "markdown",
     "metadata": {},
     "source": [
      "En \u00faltimo lugar, agregamos t\u00edtulos a los ejes (usando las funciones `xlabel` y `ylabel`),\n",
      "un t\u00edtulo general a la figura (con la funci\u00f3n `title`), una leyenda (via la funci\u00f3n `legend`), un texto mostrando el valor de $R^2$ (por medio de la funci\u00f3n `text`) y un grillado para facilitar la lectura del gr\u00e1fico (con la funci\u00f3n `grid`).\n",
      "\n",
      "El c\u00f3digo completo para graficar resulta entonces:"
     ]
    },
    {
     "cell_type": "code",
     "collapsed": false,
     "input": [
      "import matplotlib.pyplot as plt\n",
      "plt.plot(x, y, 'ob')\n",
      "plt.plot(x, a*x+b, '-r')\n",
      "plt.xlabel('x [unidades de x]')\n",
      "plt.ylabel('y [unidades de y]')\n",
      "plt.title('Ajuste de cuadrados minimos')\n",
      "plt.legend((\"Datos\",\"Ajuste\"), loc=4)\n",
      "plt.text(1, 25, 'R$^2$ = 0.989', fontsize=14)\n",
      "plt.grid('on')"
     ],
     "language": "python",
     "metadata": {},
     "outputs": [
      {
       "metadata": {},
       "output_type": "display_data",
       "png": "[encoded data removed]",
       "text": [
        "<matplotlib.figure.Figure at 0x10578dcf8>"
       ]
      }
     ],
     "prompt_number": 20
    },
    {
     "cell_type": "markdown",
     "metadata": {},
     "source": [
      "**Nota**\n",
      "\n",
      "En el c\u00f3digo anterior (empleado para generar el gr\u00e1fico) aparece una funci\u00f3n que no comentamos expl\u00edcitamente en clase: la denominada \"`text`\". En breve, esta funci\u00f3n permite incorporar texto al\n",
      "gr\u00e1fico, en la posici\u00f3n y con el tama\u00f1o que querramos (tambi\u00e9n es posible modificar el color del texto, su orientaci\u00f3n, as\u00ed como variar un gran n\u00famero de caracter\u00edsticas). \n",
      "\n",
      "En el c\u00f3digo que figura l\u00edneas arriba, la hemos usado as\u00ed:\n",
      "\n",
      "`plt.text(1, 25, 'R$^2$ = 0.989', fontsize=14)`\n",
      "\n",
      "C\u00f3mo interpretamos esta l\u00ednea de c\u00f3digo?\n",
      "* Los primeros dos argumentos (el \"`1`\" y el \"`25`\") indican la posici\u00f3n en la que deseamos ubicar el texto en la figura. El \"`1`\" es la coordenada $x$ y el \"`25`\" es la coordenada $y$.\n",
      "* El tercer argumento es el texto que deseamos insertar, y que debemos encerrar entre ap\u00f3strofes o comillas.\n",
      "* Con el \u00faltimo argumento especificamos que queremos emplear un tama\u00f1o de letra de `14` puntos."
     ]
    },
    {
     "cell_type": "heading",
     "level": 2,
     "metadata": {},
     "source": [
      "Comentarios finales"
     ]
    },
    {
     "cell_type": "markdown",
     "metadata": {},
     "source": [
      "Espero que esta gu\u00eda les sirva para seguir avanzando en el tratamiento de datos asistido por computadora, y en particular en la implementaci\u00f3n de sus propias herramientas de an\u00e1lisis estad\u00edstico usando Python. \n",
      "\n",
      "Recuerden que el c\u00f3digo descripto en este documento es s\u00f3lo **una** de las _virtualmente infinitas_ formas de realizar un ajuste de cuadrados m\u00ednimos. Mi sugerencia es que no traten el c\u00f3digo que usamos como \"escrito en piedra\" y que exploren, por ustedes mismos, otras formas alternativas de realizar este mismo an\u00e1lisis. "
     ]
    }
   ],
   "metadata": {}
  }
 ]
}